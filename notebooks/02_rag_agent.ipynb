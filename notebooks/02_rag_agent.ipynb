{
 "cells": [
  {
   "cell_type": "markdown",
   "metadata": {},
   "source": [
    "# Rag demo\n",
    "\n",
    "This notebook demonstrates the RAG agent in src"
   ]
  },
  {
   "cell_type": "code",
   "execution_count": 1,
   "metadata": {},
   "outputs": [
    {
     "name": "stderr",
     "output_type": "stream",
     "text": [
      "/Users/adambourne/GitHub/chat-rag/.venv/lib/python3.12/site-packages/tqdm/auto.py:21: TqdmWarning: IProgress not found. Please update jupyter and ipywidgets. See https://ipywidgets.readthedocs.io/en/stable/user_install.html\n",
      "  from .autonotebook import tqdm as notebook_tqdm\n"
     ]
    }
   ],
   "source": [
    "import sys\n",
    "from pathlib import Path\n",
    "\n",
    "sys.path.append(str(Path.cwd().parent))\n",
    "\n",
    "from src.agents import RAGAgent"
   ]
  },
  {
   "cell_type": "markdown",
   "metadata": {},
   "source": [
    "## Without Chat"
   ]
  },
  {
   "cell_type": "code",
   "execution_count": 5,
   "metadata": {},
   "outputs": [],
   "source": [
    "rag_agent = RAGAgent(chat=False, metadata_filtering=False)"
   ]
  },
  {
   "cell_type": "code",
   "execution_count": 6,
   "metadata": {},
   "outputs": [
    {
     "name": "stdout",
     "output_type": "stream",
     "text": [
      "16.0%\n"
     ]
    }
   ],
   "source": [
    "question = \"what was the percent of the growth in the revenues from 2007 to 2008\"\n",
    "\n",
    "print(rag_agent.run(question))"
   ]
  },
  {
   "cell_type": "markdown",
   "metadata": {},
   "source": [
    "## With Chat"
   ]
  },
  {
   "cell_type": "code",
   "execution_count": 4,
   "metadata": {},
   "outputs": [],
   "source": [
    "rag_agent_chat = RAGAgent(chat=True, metadata_filtering=True)"
   ]
  },
  {
   "cell_type": "code",
   "execution_count": 5,
   "metadata": {},
   "outputs": [
    {
     "name": "stdout",
     "output_type": "stream",
     "text": [
      "Hello! I'm here and ready to assist you with any questions you have about financial documents. How can I help you today?\n"
     ]
    }
   ],
   "source": [
    "chat_question = \"Hi, how are you?\"\n",
    "\n",
    "print(rag_agent_chat.run(chat_question))"
   ]
  },
  {
   "cell_type": "code",
   "execution_count": 11,
   "metadata": {},
   "outputs": [
    {
     "name": "stdout",
     "output_type": "stream",
     "text": [
      "The percentage change in the estimated fair value of the cash flow hedges from 2005 to 2006 is -5.77%.\n"
     ]
    }
   ],
   "source": [
    "chat_question2 = \"What is the percentage change in estimated fair value of the cash flow hedges from 2005 to 2006?\"\n",
    "\n",
    "print(rag_agent_chat.run(chat_question2))"
   ]
  },
  {
   "cell_type": "code",
   "execution_count": 12,
   "metadata": {},
   "outputs": [
    {
     "name": "stdout",
     "output_type": "stream",
     "text": [
      "The percentage change in the estimated fair value of the cash flow hedges from 2009 to 2010 is -100%.\n"
     ]
    }
   ],
   "source": [
    "# This question requires knowledge of the previous conversation.\n",
    "\n",
    "chat_question3 = \"What about 2009-2010?\"\n",
    "\n",
    "print(rag_agent_chat.run(chat_question3))"
   ]
  }
 ],
 "metadata": {
  "kernelspec": {
   "display_name": ".venv",
   "language": "python",
   "name": "python3"
  },
  "language_info": {
   "codemirror_mode": {
    "name": "ipython",
    "version": 3
   },
   "file_extension": ".py",
   "mimetype": "text/x-python",
   "name": "python",
   "nbconvert_exporter": "python",
   "pygments_lexer": "ipython3",
   "version": "3.12.0"
  }
 },
 "nbformat": 4,
 "nbformat_minor": 2
}
