{
 "cells": [
  {
   "cell_type": "markdown",
   "metadata": {},
   "source": [
    "# Notebook to explore the data\n",
    "Simple, rough notebook to take a look at the data and consider how to preprocess it."
   ]
  },
  {
   "cell_type": "code",
   "execution_count": 1,
   "metadata": {},
   "outputs": [],
   "source": [
    "import json\n",
    "import os\n",
    "\n",
    "# relies on the data being in the ConvFinQA/data/ directory. Please run scripts/unzip_data.sh to unzip the data.\n",
    "data_dir = os.path.join('..', 'ConvFinQA/data/')\n",
    "\n",
    "train_data = json.load(open(os.path.join(data_dir, 'train.json')))"
   ]
  },
  {
   "cell_type": "markdown",
   "metadata": {},
   "source": [
    "## Let's see an example"
   ]
  },
  {
   "cell_type": "code",
   "execution_count": 73,
   "metadata": {},
   "outputs": [
    {
     "data": {
      "text/plain": [
       "{'pre_text': ['through the certegy merger , the company has an obligation to service $ 200 million ( aggregate principal amount ) of unsecured 4.75% ( 4.75 % ) fixed-rate notes due in 2008 .',\n",
       "  'the notes were recorded in purchase accounting at a discount of $ 5.7 million , which is being amortized over the term of the notes .',\n",
       "  'the notes accrue interest at a rate of 4.75% ( 4.75 % ) per year , payable semi-annually in arrears on each march 15 and september 15 .',\n",
       "  'on april 11 , 2005 , fis entered into interest rate swap agreements which have effectively fixed the interest rate at approximately 5.4% ( 5.4 % ) through april 2008 on $ 350 million of the term loan facilities ( or its replacement debt ) and at approximately 5.2% ( 5.2 % ) through april 2007 on an additional $ 350 million of the term loan .',\n",
       "  'the company has designated these interest rate swaps as cash flow hedges in accordance with sfas no .',\n",
       "  '133 .',\n",
       "  'the estimated fair value of the cash flow hedges results in an asset to the company of $ 4.9 million and $ 5.2 million , as of december 31 , 2006 and december 31 , 2005 , respectively , which is included in the accompanying consolidated balance sheets in other noncurrent assets and as a component of accumulated other comprehensive earnings , net of deferred taxes .',\n",
       "  'a portion of the amount included in accumulated other comprehensive earnings is reclassified into interest expense as a yield adjustment as interest payments are made on the term loan facilities .',\n",
       "  'the company 2019s existing cash flow hedges are highly effective and there is no current impact on earnings due to hedge ineffectiveness .',\n",
       "  'it is the policy of the company to execute such instruments with credit-worthy banks and not to enter into derivative financial instruments for speculative purposes .',\n",
       "  'principal maturities at december 31 , 2006 ( and at december 31 , 2006 after giving effect to the debt refinancing completed on january 18 , 2007 ) for the next five years and thereafter are as follows ( in thousands ) : december 31 , january 18 , 2007 refinancing .'],\n",
       " 'post_text': ['fidelity national information services , inc .',\n",
       "  'and subsidiaries and affiliates consolidated and combined financial statements notes to consolidated and combined financial statements 2014 ( continued ) .'],\n",
       " 'filename': 'FIS/2006/page_88.pdf',\n",
       " 'table_ori': [['', 'December 31,   2006', 'January 18, 2007   Refinancing'],\n",
       "  ['2007', '$61,661', '$96,161'],\n",
       "  ['2008', '257,541', '282,041'],\n",
       "  ['2009', '68,129', '145,129'],\n",
       "  ['2010', '33,586', '215,586'],\n",
       "  ['2011', '941,875', '165,455'],\n",
       "  ['Thereafter', '1,646,709', '2,105,129'],\n",
       "  ['Total', '$3,009,501', '$3,009,501']],\n",
       " 'table': [['', 'december 31 2006', 'january 18 2007 refinancing'],\n",
       "  ['2007', '$ 61661', '$ 96161'],\n",
       "  ['2008', '257541', '282041'],\n",
       "  ['2009', '68129', '145129'],\n",
       "  ['2010', '33586', '215586'],\n",
       "  ['2011', '941875', '165455'],\n",
       "  ['thereafter', '1646709', '2105129'],\n",
       "  ['total', '$ 3009501', '$ 3009501']],\n",
       " 'qa': {'question': 'what is the percentage change in estimated fair value of the cash flow hedges from 2005 to 2006?',\n",
       "  'answer': '-5.8%',\n",
       "  'explanation': '',\n",
       "  'ann_table_rows': [],\n",
       "  'ann_text_rows': [6],\n",
       "  'steps': [{'op': 'minus1-1', 'arg1': '4.9', 'arg2': '5.2', 'res': '0.30'},\n",
       "   {'op': 'divide1-2', 'arg1': '#0', 'arg2': '5.2', 'res': '-5.8%'}],\n",
       "  'program': 'subtract(4.9, 5.2), divide(#0, 5.2)',\n",
       "  'gold_inds': {'text_6': 'the estimated fair value of the cash flow hedges results in an asset to the company of $ 4.9 million and $ 5.2 million , as of december 31 , 2006 and december 31 , 2005 , respectively , which is included in the accompanying consolidated balance sheets in other noncurrent assets and as a component of accumulated other comprehensive earnings , net of deferred taxes .'},\n",
       "  'exe_ans': -0.05769,\n",
       "  'program_re': 'divide(subtract(4.9, 5.2), 5.2)'},\n",
       " 'id': 'Single_FIS/2006/page_88.pdf-4',\n",
       " 'annotation': {'amt_table': \"<table class='wikitable'><tr><td>1</td><td></td><td>december 31 2006</td><td>january 18 2007 refinancing</td></tr><tr><td>2</td><td>2007</td><td>$ 61661</td><td>$ 96161</td></tr><tr><td>3</td><td>2008</td><td>257541</td><td>282041</td></tr><tr><td>4</td><td>2009</td><td>68129</td><td>145129</td></tr><tr><td>5</td><td>2010</td><td>33586</td><td>215586</td></tr><tr><td>6</td><td>2011</td><td>941875</td><td>165455</td></tr><tr><td>7</td><td>thereafter</td><td>1646709</td><td>2105129</td></tr><tr><td>8</td><td>total</td><td>$ 3009501</td><td>$ 3009501</td></tr></table>\",\n",
       "  'amt_pre_text': 'through the certegy merger , the company has an obligation to service $ 200 million ( aggregate principal amount ) of unsecured 4.75% ( 4.75 % ) fixed-rate notes due in 2008 . the notes were recorded in purchase accounting at a discount of $ 5.7 million , which is being amortized over the term of the notes . the notes accrue interest at a rate of 4.75% ( 4.75 % ) per year , payable semi-annually in arrears on each march 15 and september 15 . on april 11 , 2005 , fis entered into interest rate swap agreements which have effectively fixed the interest rate at approximately 5.4% ( 5.4 % ) through april 2008 on $ 350 million of the term loan facilities ( or its replacement debt ) and at approximately 5.2% ( 5.2 % ) through april 2007 on an additional $ 350 million of the term loan . the company has designated these interest rate swaps as cash flow hedges in accordance with sfas no . 133 . the estimated fair value of the cash flow hedges results in an asset to the company of $ 4.9 million and $ 5.2 million , as of december 31 , 2006 and december 31 , 2005 , respectively , which is included in the accompanying consolidated balance sheets in other noncurrent assets and as a component of accumulated other comprehensive earnings , net of deferred taxes . a portion of the amount included in accumulated other comprehensive earnings is reclassified into interest expense as a yield adjustment as interest payments are made on the term loan facilities . the company 2019s existing cash flow hedges are highly effective and there is no current impact on earnings due to hedge ineffectiveness . it is the policy of the company to execute such instruments with credit-worthy banks and not to enter into derivative financial instruments for speculative purposes . principal maturities at december 31 , 2006 ( and at december 31 , 2006 after giving effect to the debt refinancing completed on january 18 , 2007 ) for the next five years and thereafter are as follows ( in thousands ) : december 31 , january 18 , 2007 refinancing .',\n",
       "  'amt_post_text': 'fidelity national information services , inc . and subsidiaries and affiliates consolidated and combined financial statements notes to consolidated and combined financial statements 2014 ( continued ) .',\n",
       "  'original_program': 'subtract(4.9, 5.2), divide(A0, 5.2)',\n",
       "  'step_list': ['Ask for number 4.9',\n",
       "   'Ask for number 5.2',\n",
       "   'subtract(4.9, 5.2)',\n",
       "   'divide(A0, 5.2)'],\n",
       "  'answer_list': ['4.9', '5.2', 'A0', 'A1'],\n",
       "  'dialogue_break': ['what was the fair value of cash flow hedges in 2006?',\n",
       "   'what was the fair value of cash flow hedges in 2005?',\n",
       "   'what is the net difference?',\n",
       "   'what is the percent change?'],\n",
       "  'turn_program_ori': ['4.9',\n",
       "   '5.2',\n",
       "   'subtract(4.9, 5.2)',\n",
       "   'subtract(4.9, 5.2), divide(#0, 5.2)'],\n",
       "  'dialogue_break_ori': ['what was the fair value of cash flow hedges in 2006?',\n",
       "   'what was the fair value of cash flow hedges in 2005?',\n",
       "   'what is the net difference?',\n",
       "   'what is the percent change?'],\n",
       "  'turn_program': ['4.9',\n",
       "   '5.2',\n",
       "   'subtract(4.9, 5.2)',\n",
       "   'subtract(4.9, 5.2), divide(#0, 5.2)'],\n",
       "  'qa_split': [0, 0, 0, 0],\n",
       "  'exe_ans_list': [4.9, 5.2, -0.3, -0.05769]}}"
      ]
     },
     "execution_count": 73,
     "metadata": {},
     "output_type": "execute_result"
    }
   ],
   "source": [
    "train_data[500]"
   ]
  },
  {
   "cell_type": "markdown",
   "metadata": {},
   "source": [
    "### Explore the fields"
   ]
  },
  {
   "cell_type": "code",
   "execution_count": 3,
   "metadata": {},
   "outputs": [
    {
     "data": {
      "text/plain": [
       "['pre_text',\n",
       " 'post_text',\n",
       " 'filename',\n",
       " 'table_ori',\n",
       " 'table',\n",
       " 'qa',\n",
       " 'id',\n",
       " 'annotation']"
      ]
     },
     "execution_count": 3,
     "metadata": {},
     "output_type": "execute_result"
    }
   ],
   "source": [
    "list(train_data[0].keys())"
   ]
  },
  {
   "cell_type": "markdown",
   "metadata": {},
   "source": [
    "**According to the docs for ConvFinQA: https://github.com/czyssrs/ConvFinQA/blob/main/README.md**\n",
    "\n",
    "General fields for all data:\n",
    "```json\n",
    "\"pre_text\": \"the texts before the table\",\n",
    "\"post_text\": \"the text after the table\",\n",
    "\"table\": \"the table\",\n",
    "\"id\": \"unique example id\"\n",
    "```\n",
    "\n",
    "The \"annotation\" field contains the major information for the conversations. If the conversation is the Type I simple conversation, i.e., the decomposition from one FinQA question, then we have the following fields for \"annotation\" fields:\n",
    "\n",
    "```json\n",
    "\"annotation\": {\n",
    "  \"original_program\": \"original FinQA question\",\n",
    "  \"dialogue_break\": \"the conversation, as a list of question turns.\", \n",
    "  \"turn_program\": \"the ground truth program for each question, corresponding to the list in 'dialogue_break'\",\n",
    "  \"qa_split\": \"this field indicates the source of each question turn - 0 if from the decomposition of the first FinQA question, 1 if from the second. For the Type I simple conversations, this field is all 0s.\", \n",
    "  \"exe_ans_list\": \"the execution results of each question turn.\"\n",
    "}\n",
    "```"
   ]
  },
  {
   "cell_type": "markdown",
   "metadata": {},
   "source": [
    "To create nice chunks in the vector db, we need to create a func that can combine all the data fields (pre_text, post_text, table) into a single string. Than can be embedded"
   ]
  },
  {
   "cell_type": "markdown",
   "metadata": {},
   "source": [
    "## Format data"
   ]
  },
  {
   "cell_type": "markdown",
   "metadata": {},
   "source": [
    "### Metatdata filtering\n",
    "Metadata filtering is a quick and simple way to improve RAG results, because it's an easy failure point where LLMs can be bad at identifying document categories."
   ]
  },
  {
   "cell_type": "code",
   "execution_count": 83,
   "metadata": {},
   "outputs": [
    {
     "name": "stdout",
     "output_type": "stream",
     "text": [
      "Filename: Single_JKHY/2009/page_28.pdf-3 - Year: 2009 - Question: what was the percentage change in the net cash from operating activities from 2008 to 2009\n",
      "Filename: Single_ADI/2011/page_92.pdf-2 - Year: 2011 - Question: what is the net change in unrealized tax benefits during 2010?\n",
      "Filename: Single_AAP/2012/page_61.pdf-4 - Year: 2012 - Question: how much did the cost of sales change over from 2010 to 2012\n",
      "Filename: Double_AAPL/2015/page_24.pdf - Year: 2015 - Question: No question\n",
      "Filename: Single_LMT/2015/page_52.pdf-2 - Year: 2015 - Question: what was the average backlog at year-end in millions from 2013 to 2015?\n",
      "Filename: Double_AMT/2012/page_121.pdf - Year: 2012 - Question: No question\n",
      "Filename: Double_SNPS/2012/page_64.pdf - Year: 2012 - Question: No question\n",
      "Filename: Single_ETR/2004/page_159.pdf-1 - Year: 2004 - Question: what is the growth rate in net revenue in 2004 for entergy arkansas inc.?\n",
      "Filename: Single_RSG/2014/page_95.pdf-1 - Year: 2014 - Question: what was the percentage decline in the allowance for doubtful accounts in 2013\n",
      "Filename: Single_ETR/2011/page_316.pdf-1 - Year: 2011 - Question: what was the percent of the change in the net revenue from 2010 to 2011\n"
     ]
    }
   ],
   "source": [
    "# looking at the JSON data, the filename follows a consistent pattern, so we can at least extract the year of each document\n",
    "for i in range(0, 3000, 300): # random-ish sample\n",
    "    print(f\"Filename: {train_data[i]['id']} - Year: {train_data[i]['filename'].split('/')[1]} - Question: {train_data[i].get('qa', {}).get('question', 'No question')}\")"
   ]
  },
  {
   "cell_type": "markdown",
   "metadata": {},
   "source": [
    "Sometimes the documents are written after the year in which they are referring to, e.g:\n",
    "\n",
    "```Filename: Single_RSG/2014/page_95.pdf-1 - Year: 2014 - Question: what was the percentage decline in the allowance for doubtful accounts in 2013```\n",
    "\n",
    "So maybe the filter could be a range.\n",
    "\n",
    "We could do simple NER on the question, extract the year(s) in question, and then only find docs from these years"
   ]
  },
  {
   "cell_type": "code",
   "execution_count": null,
   "metadata": {},
   "outputs": [],
   "source": [
    "# using gliner which is a decent out-of-the-box entity extractor: https://arxiv.org/abs/2311.08526\n",
    "from gliner import GLiNER\n",
    "\n",
    "model = GLiNER.from_pretrained(\"urchade/gliner_medium-v2.1\")"
   ]
  },
  {
   "cell_type": "code",
   "execution_count": 88,
   "metadata": {},
   "outputs": [
    {
     "name": "stdout",
     "output_type": "stream",
     "text": [
      "[{'start': 58, 'end': 62, 'text': '2013', 'label': 'Year', 'score': 0.9705820679664612}, {'start': 66, 'end': 70, 'text': '2015', 'label': 'Year', 'score': 0.9251722693443298}]\n",
      "2013\n",
      "2015\n"
     ]
    }
   ],
   "source": [
    "text = \"what was the average backlog at year-end in millions from 2013 to 2015?\"\n",
    "\n",
    "# we only care about the year\n",
    "labels = [\"Year\"]\n",
    "\n",
    "# Perform entity prediction\n",
    "entities = model.predict_entities(text, labels, threshold=0.5)\n",
    "\n",
    "# I think confidence will be high on all questions\n",
    "print(entities)\n",
    "\n",
    "for entity in entities:\n",
    "    print(entity['text'])"
   ]
  },
  {
   "cell_type": "code",
   "execution_count": 97,
   "metadata": {},
   "outputs": [
    {
     "name": "stdout",
     "output_type": "stream",
     "text": [
      "(2016, 2015)\n"
     ]
    }
   ],
   "source": [
    "def get_range(question: str) -> tuple:\n",
    "    \"\"\"Takes a question, extracts the years mentioned, and takes the latest year.\n",
    "    Then will create a year containing the latest year and the next year.\n",
    "    This should encompass a lot of the documts.\"\"\"\n",
    "\n",
    "    labels = [\"Year\"]\n",
    "    entities = model.predict_entities(question, labels, threshold=0.5)\n",
    "    \n",
    "    try:\n",
    "        # sometimes we get errors if the entraction doesn't convert to an int\n",
    "        years = (int(entity['text']) for entity in entities)\n",
    "        max_year = max(years)\n",
    "        return (max_year + 1, max_year)\n",
    "    except:\n",
    "        return ()\n",
    "\n",
    "print(get_range(\"what was the average backlog at year-end in millions from 2013 to 2015?\"))"
   ]
  },
  {
   "cell_type": "code",
   "execution_count": 98,
   "metadata": {},
   "outputs": [
    {
     "name": "stdout",
     "output_type": "stream",
     "text": [
      "True: what was the percentage change in the net cash from operating activities from 2008 to 2009 - 2009 - (2010, 2009)\n",
      "No year range found for how much higher are the returns of the s&p 500 in the same period ( 2008-2013 ) ? as a percentage .\n",
      "False: what is the roi of an investment in the o'reilly automotive inc . from 2010 to 2011? - 2015 - (2012, 2011)\n",
      "False: what is the percentage change in benefits obligations from 2018 to 2019? - 2018 - (2020, 2019)\n",
      "True: in billions , what would 2018 total operating revenues have been without the mexico business? - 2018 - (2019, 2018)\n",
      "True: what was the percentage change in the repurchase reserve between 2008 and 2009 , in millions? - 2009 - (2010, 2009)\n",
      "True: what was the percentage decline in the operating earnings in 2007 of $ 37 million declined from $ 41 - 2007 - (2008, 2007)\n",
      "True: what are the receivables from the money pool as a percentage of additional common stock dividends paid in 2003? - 2004 - (2004, 2003)\n",
      "True: what percent higher yields from the money pool in the years 2016 and 2017 , than the years 2014 and 2015? - 2017 - (2018, 2017)\n",
      "True: what was the percentage cumulative total shareholder return on discb for the five year period ended december 31 , 2016? - 2016 - (2017, 2016)\n",
      "No year range found for what portion of total future minimum lease payments is due in the next 24 months?\n",
      "True: what was the percentage increase in the cash provided by operating activities from 2015 to 2016 - 2016 - (2017, 2016)\n",
      "True: what is the percentage change in conduit assets in unites states from 2007 to 2008? - 2008 - (2009, 2008)\n",
      "No year range found for for metokote , what percentage of purchase price was intangible assets?\n",
      "No year range found for what portion of the equity compensation plan approved by security holders is to be issued upon the exercise of the outstanding options warrants and rights?\n",
      "True: what was the percentage change in net sales of the commodity chemicals business that will be reclassified and reported as discontinued operations from 2011 to 2012? - 2012 - (2013, 2012)\n",
      "True: what is the percentage change in total gross amount of unrecognized tax benefits from 2012 to 2013? - 2013 - (2014, 2013)\n",
      "True: what was the percentage change in the annual operating cash flow between 2010 and 2011? - 2012 - (2012, 2011)\n",
      "True: in 2013 what percentage of printing papers sales where attributable to north american printing papers net sales? - 2013 - (2014, 2013)\n",
      "No year range found for what the total number of votes to issue shares of republic common stock and other securities convertible\n",
      "True: what was the average balance of total pci consumer loans for the years ended december 31 , 2010 and 2009? - 2010 - (2011, 2010)\n",
      "True: what was the percentage growth in the cash dividends from 2010 to 2011 - 2011 - (2012, 2011)\n",
      "True: what was the percentage cumulative total shareholder return for the four years ended 2014? - 2015 - (2015, 2014)\n",
      "No year range found for what percentage of total revisions were not related to prices?\n",
      "True: what percent change did the fx impact have on the 2014 multi asset value? - 2014 - (2015, 2014)\n",
      "True: what is the percentage change in the gross amount of unrecognized tax benefit during 2007? - 2007 - (2008, 2007)\n",
      "No year range found for what is the total of the company 2019s future minimum revenues under the terms of all non-cancelable tenant sublease from 2009-2011 , in millions?\\\\n\n",
      "No year range found for what was the percent of the change in the non-vested performance awards at end of year\n",
      "True: what is the percentage change in annual operating cash flow from 2009 to 2010? - 2011 - (2011, 2010)\n",
      "True: in 2013 what was the percentage change in the nonvested rsus - 2013 - (2014, 2013)\n",
      "True: what was the percentage change in the asian consumer packaging net sales in 2013 - 2013 - (2014, 2013)\n",
      "True: in 2010 what was the percentage change in the unrecognized tax benefits, - 2010 - (2011, 2010)\n",
      "True: what is percentage change in fair value of net assets denominated in foreign currencies from 2007 to 2008? - 2008 - (2009, 2008)\n",
      "No year range found for as december 2004 what was the percent of the company 2019s total pension and postretirement plans that was due in 2007\n",
      "True: what is the growth rate of operating expenses from 2009 to 2010? - 2010 - (2011, 2010)\n",
      "False: what was the percentage difference of earnings per share 2013 basic pro forma compared to earnings per share 2013 diluted pro forma in 2005? - 2006 - (2014, 2013)\n",
      "True: what is the percentage change in 401 ( k ) contributed amounts from 2003 to 2004? - 2004 - (2005, 2004)\n",
      "True: what was the sum of the total fair value of restricted stock that vested during 2008 and 2010 in millions - 2010 - (2011, 2010)\n",
      "True: in 2001 , what percent of gains were lost in foreign currency translation - 2001 - (2002, 2001)\n",
      "True: what was the percentage change in the changes in the warranty reserve in 2009 - 2010 - (2010, 2009)\n",
      "No year range found for with no additional approvals if the rate of issuance under the restricted stock plan for non-management directors continues how many years of stock to issue remain?\n",
      "True: what is the percentage reduction in the spending on the share repurchase program in 2006 compared to 2005?\\\\n - 2006 - (2007, 2006)\n",
      "True: what is the percent change in daily earnings at risk at the end of the period from 2001 to 2002? - 2002 - (2003, 2002)\n",
      "True: in 2016 what was the percentage change in net revenue - 2017 - (2017, 2016)\n",
      "No year range found for what is the average operating lease liability for 2014-2016?\n",
      "No year range found for what is the annual cash flow cost of the cc series preferred stock , in m?\n",
      "True: in 2012 , what percent of new sites were foreign? - 2012 - (2013, 2012)\n",
      "True: what is the growth rate in the fair value of retained interests in 2018 compare to 2017? - 2018 - (2019, 2018)\n",
      "True: what was the percent cumulative total return on citigroup's common stock for five year period ended 2009? - 2009 - (2010, 2009)\n",
      "True: what is the total cumulative percentage return on investment on class b common stock for the five years ended 122/31/2017? - 2017 - (2018, 2017)\n",
      "False: how much less , in percentage , were the capital leases in 2011 than the operating leases? - 2010 - (2012, 2011)\n",
      "True: what was the percentage change in fuel surcharge revenues from 2012 to 2013? - 2013 - (2014, 2013)\n",
      "False: what was the 2019 rate of increase in capital lease payments? - 2017 - (2020, 2019)\n",
      "True: what was the percentage change in the unrecognized tax benefits from 2011 to 2012? - 2013 - (2013, 2012)\n",
      "True: what percent did indemnified securities financing increase from 2012 to 2013? - 2013 - (2014, 2013)\n",
      "No year range found for how much more money would jp morgan need to meet management 2019s plan to reach an estimated basel iii tier i common ratio of 9.5%?\n",
      "True: what was the percentage change in the carrying amount reported on the consolidate balance sheet from 2017 to 2018? - 2018 - (2019, 2018)\n",
      "False: what is the roi of an investment in state street corporation from 2007 to 2009? - 2012 - (2010, 2009)\n",
      "True: what is the growth rate in cash dividends received in 2011 compare to 2010? - 2011 - (2012, 2011)\n",
      "True: what was the average other income from 2011 to 2013 - 2013 - (2014, 2013)\n",
      "No year range found for what was the percentage change in the net income\n",
      "True: during 2017 and 2018 , what was the average interest income , in millions? - 2018 - (2019, 2018)\n",
      "No year range found for what was the percentage decrease between total number of shares purchased in october and november?\n",
      "No year range found for what percentage of hotel properties are not in the united states?\n",
      "True: what was the percentage change in free cash flow from 2015 to 2016? - 2017 - (2017, 2016)\n",
      "True: what is the percentage change in expenses related to personal pension plan from 2008 to 2009? - 2010 - (2010, 2009)\n",
      "True: what is the growth rate of the operating income from 2013 to 2014? - 2014 - (2015, 2014)\n",
      "True: what is the growth rate in the weighted average fair value per share of espp share purchase options from 2012 to 2013? - 2014 - (2014, 2013)\n",
      "True: what was the percentage change in vehicles under capital lease from 2016 to 2017? - 2017 - (2018, 2017)\n",
      "True: what was the percentage change in the gross unrecognized tax benefits between 2011 and 2012? - 2012 - (2013, 2012)\n",
      "True: what is the percentage change in statutory surplus from 2011 to 2012? - 2012 - (2013, 2012)\n",
      "True: what is the percent change in alternative component changes in alternatives from 12/31/2011 to 12/31/2012? - 2012 - (2013, 2012)\n",
      "No year range found for what percentage of total minimum lease payments are capital leases?\n",
      "True: what is the growth rate in net revenue in 2004 for entergy arkansas inc.? - 2004 - (2005, 2004)\n",
      "True: what was the average balance of cash collateral for 2017 and 2018? - 2018 - (2019, 2018)\n",
      "False: what was the percent decrease in the total aggregate annual maturities of long-term debt obligations from 2011 to 2012 - 2008 - (2013, 2012)\n",
      "True: what is roi of an investment in teleflex incorporated in 2012 and sold in 2017? - 2017 - (2018, 2017)\n",
      "True: what is the percent increase in rent expense from 2012 to 2013? - 2013 - (2014, 2013)\n",
      "True: what was the percentage change in the expected volatility from 2012 to 2013 - 2014 - (2014, 2013)\n",
      "True: what is the growth rate of revenue from 2007 to 2008? - 2008 - (2009, 2008)\n",
      "True: what is the growth rate in net revenue in 2004 for entergy gulf states , inc? - 2004 - (2005, 2004)\n",
      "True: what is the roi of an investment in o 2019reilly automotive inc . from 2013 to 2017? - 2018 - (2018, 2017)\n",
      "False: by what percentage did the pension pretax expenses decrease from 2012 to 2013? - 2012 - (2014, 2013)\n",
      "True: what was the percentage change in total interest payments from 2010 to 2011? - 2011 - (2012, 2011)\n",
      "False: in 2013 what was the anticipated percentage growth in the stock performance for the peer group in 2014 - 2016 - (2015, 2014)\n",
      "True: what is the growth rate in operating profit for aeronautics in 2012? - 2012 - (2013, 2012)\n",
      "True: what is the percentage change in the balance of allowances from 2008 to 2009? - 2010 - (2010, 2009)\n",
      "False: what percent of total long-term debt 2013 kmp after the implementation of asu 2009-17 is current maturities? - 2010 - (2014, 2013)\n",
      "No year range found for what was the sum of the entergy louisiana 2019s receivables from the money pool from 2014 to 2017\n",
      "True: what is the percentage change in inventories at lifo net during 2012? - 2012 - (2013, 2012)\n",
      "True: what is the growth rate in net revenue during 2008? - 2008 - (2009, 2008)\n",
      "True: in 2005 for the quarter ended june 30 what was the percent of the change in the class a common stock on the new york stock exchange from highest to lowest price - 2005 - (2006, 2005)\n",
      "True: what was the percent of the increase in the fair values of our foreign currency forward contracts liability from 2010 to 2011 - 2011 - (2012, 2011)\n",
      "True: what was the percent of the growth in the free cash flow from 2012 to 2013 - 2013 - (2014, 2013)\n",
      "True: what is the growth rate in advertising expense in 2003 relative to 2002? - 2003 - (2004, 2003)\n",
      "True: by how much did asset retirement liability increase from 2004 to 2005? - 2006 - (2006, 2005)\n",
      "True: what is the percentage change in the total other accrued liabilities from 2011 to 2012? - 2012 - (2013, 2012)\n",
      "No year range found for considering the years 2017-2018 , what is the decrease observed in the weighted-average number of diluted shares?\n",
      "False: what was the percent of growth or decline in the total intangibles 2014 net from 2007 to 2008 - 2008 - (2015, 2014)\n",
      "True: what was the percentage increase of the expected return from 2007 to 2008 - 2008 - (2009, 2008)\n"
     ]
    }
   ],
   "source": [
    "for i in range(0, 3000, 21):\n",
    "    question = train_data[i].get('qa', {}).get('question', None)\n",
    "    if question is None:\n",
    "        continue    \n",
    "\n",
    "    year_range = get_range(question)\n",
    "\n",
    "    if len(year_range) == 0:\n",
    "        print(f\"No year range found for {question}\")\n",
    "        continue\n",
    "    \n",
    "    doc_year = train_data[i]['filename'].split('/')[1]\n",
    "\n",
    "    if int(doc_year) not in year_range:\n",
    "        print(f\"False: {question} - {doc_year} - {year_range}\")\n",
    "    else:\n",
    "        print(f\"True: {question} - {doc_year} - {year_range}\")\n"
   ]
  },
  {
   "cell_type": "markdown",
   "metadata": {},
   "source": [
    "From the above quick experiment and only looking by eye, it seems like year range _might_ be a useful filter.\n",
    "\n",
    "In the code I will leave it as a switch, so we can turn it on or off to check results with or without"
   ]
  },
  {
   "cell_type": "markdown",
   "metadata": {},
   "source": [
    "## Text and table formatting"
   ]
  },
  {
   "cell_type": "code",
   "execution_count": 67,
   "metadata": {},
   "outputs": [],
   "source": [
    "import pandas as pd\n",
    "\n",
    "def format_data(chunk: dict) -> dict:\n",
    "    \"\"\"Takes a dict from the train.json data, combines the relevant data fields \n",
    "    (pre_text, post_text, table) into a single string, and returns a new dict\n",
    "    \n",
    "    Args:\n",
    "        chunk (dict): a dict from the train.json file\n",
    "    \n",
    "    Returns:\n",
    "        a new dict FILL OUT\n",
    "    \"\"\"\n",
    "    \n",
    "    # TEXT FORMATTING\n",
    "    # pre text\n",
    "    pre_text = \"\\n\".join(chunk[\"pre_text\"])\n",
    "\n",
    "    # looks like all the chunks have the same table structure\n",
    "    df = pd.DataFrame(chunk[\"table\"][1:],  # Data rows\n",
    "                        columns=[''] + chunk[\"table\"][0][1:]) \n",
    "    table_text = df.to_markdown(\n",
    "        index=False,\n",
    "        tablefmt='pipe', \n",
    "        numalign='right',\n",
    "        stralign='left'\n",
    "    )\n",
    "\n",
    "    # post text\n",
    "    post_text = \"\\n\".join(chunk[\"post_text\"])\n",
    "\n",
    "    # combine text\n",
    "    total_text = pre_text + \"\\n\\n\" + table_text + \"\\n\\n\" + post_text\n",
    "\n",
    "    # GET YEAR\n",
    "    year = int(chunk[\"filename\"].split('/')[1])\n",
    "    \n",
    "    # RETURN DICT\n",
    "    return {\n",
    "        \"id\": chunk[\"id\"],\n",
    "        \"text\": total_text,\n",
    "        \"metadata\": {\"id\": chunk[\"id\"], \"qa\": chunk.get(\"qa\")}, # not all chunks have a qa field\n",
    "        \"year\": year\n",
    "    }\n"
   ]
  },
  {
   "cell_type": "code",
   "execution_count": 70,
   "metadata": {},
   "outputs": [
    {
     "name": "stdout",
     "output_type": "stream",
     "text": [
      "26 | 2009 annual report in fiscal 2008 , revenues in the credit union systems and services business segment increased 14% ( 14 % ) from fiscal 2007 .\n",
      "all revenue components within the segment experienced growth during fiscal 2008 .\n",
      "license revenue generated the largest dollar growth in revenue as episys ae , our flagship core processing system aimed at larger credit unions , experienced strong sales throughout the year .\n",
      "support and service revenue , which is the largest component of total revenues for the credit union segment , experienced 34 percent growth in eft support and 10 percent growth in in-house support .\n",
      "gross profit in this business segment increased $ 9344 in fiscal 2008 compared to fiscal 2007 , due primarily to the increase in license revenue , which carries the highest margins .\n",
      "liquidity and capital resources we have historically generated positive cash flow from operations and have generally used funds generated from operations and short-term borrowings on our revolving credit facility to meet capital requirements .\n",
      "we expect this trend to continue in the future .\n",
      "the company 2019s cash and cash equivalents increased to $ 118251 at june 30 , 2009 from $ 65565 at june 30 , 2008 .\n",
      "the following table summarizes net cash from operating activities in the statement of cash flows : 2009 2008 2007 .\n",
      "\n",
      "|                                        | year ended june 30 2009 2008   | year ended june 30 2009 2008   | year ended june 30 2009   |\n",
      "|:---------------------------------------|:-------------------------------|:-------------------------------|:--------------------------|\n",
      "| net income                             | $ 103102                       | $ 104222                       | $ 104681                  |\n",
      "| non-cash expenses                      | 74397                          | 70420                          | 56348                     |\n",
      "| change in receivables                  | 21214                          | -2913 ( 2913 )                 | -28853 ( 28853 )          |\n",
      "| change in deferred revenue             | 21943                          | 5100                           | 24576                     |\n",
      "| change in other assets and liabilities | -14068 ( 14068 )               | 4172                           | 17495                     |\n",
      "| net cash from operating activities     | $ 206588                       | $ 181001                       | $ 174247                  |\n",
      "\n",
      "year ended june 30 , cash provided by operations increased $ 25587 to $ 206588 for the fiscal year ended june 30 , 2009 as compared to $ 181001 for the fiscal year ended june 30 , 2008 .\n",
      "this increase is primarily attributable to a decrease in receivables compared to the same period a year ago of $ 21214 .\n",
      "this decrease is largely the result of fiscal 2010 annual software maintenance billings being provided to customers earlier than in the prior year , which allowed more cash to be collected before the end of the fiscal year than in previous years .\n",
      "further , we collected more cash overall related to revenues that will be recognized in subsequent periods in the current year than in fiscal 2008 .\n",
      "cash used in investing activities for the fiscal year ended june 2009 was $ 59227 and includes $ 3027 in contingent consideration paid on prior years 2019 acquisitions .\n",
      "cash used in investing activities for the fiscal year ended june 2008 was $ 102148 and includes payments for acquisitions of $ 48109 , plus $ 1215 in contingent consideration paid on prior years 2019 acquisitions .\n",
      "capital expenditures for fiscal 2009 were $ 31562 compared to $ 31105 for fiscal 2008 .\n",
      "cash used for software development in fiscal 2009 was $ 24684 compared to $ 23736 during the prior year .\n",
      "net cash used in financing activities for the current fiscal year was $ 94675 and includes the repurchase of 3106 shares of our common stock for $ 58405 , the payment of dividends of $ 26903 and $ 13489 net repayment on our revolving credit facilities .\n",
      "cash used in financing activities was partially offset by proceeds of $ 3773 from the exercise of stock options and the sale of common stock ( through the employee stock purchase plan ) and $ 348 excess tax benefits from stock option exercises .\n",
      "during fiscal 2008 , net cash used in financing activities for the fiscal year was $ 101905 and includes the repurchase of 4200 shares of our common stock for $ 100996 , the payment of dividends of $ 24683 and $ 429 net repayment on our revolving credit facilities .\n",
      "cash used in financing activities was partially offset by proceeds of $ 20394 from the exercise of stock options and the sale of common stock and $ 3809 excess tax benefits from stock option exercises .\n",
      "beginning during fiscal 2008 , us financial markets and many of the largest us financial institutions have been shaken by negative developments in the home mortgage industry and the mortgage markets , and particularly the markets for subprime mortgage-backed securities .\n",
      "since that time , these and other such developments have resulted in a broad , global economic downturn .\n",
      "while we , as is the case with most companies , have experienced the effects of this downturn , we have not experienced any significant issues with our current collection efforts , and we believe that any future impact to our liquidity will be minimized by cash generated by recurring sources of revenue and due to our access to available lines of credit. .\n"
     ]
    }
   ],
   "source": [
    "print(format_data(train_data[0])['text'])"
   ]
  },
  {
   "cell_type": "code",
   "execution_count": null,
   "metadata": {},
   "outputs": [],
   "source": []
  }
 ],
 "metadata": {
  "kernelspec": {
   "display_name": ".venv",
   "language": "python",
   "name": "python3"
  },
  "language_info": {
   "codemirror_mode": {
    "name": "ipython",
    "version": 3
   },
   "file_extension": ".py",
   "mimetype": "text/x-python",
   "name": "python",
   "nbconvert_exporter": "python",
   "pygments_lexer": "ipython3",
   "version": "3.12.0"
  }
 },
 "nbformat": 4,
 "nbformat_minor": 2
}
