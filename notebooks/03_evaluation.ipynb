{
 "cells": [
  {
   "cell_type": "markdown",
   "metadata": {},
   "source": [
    "# Evaluations\n",
    "Runs through the different stages of the RAG agent and evaluates the performance of the different stages"
   ]
  },
  {
   "cell_type": "code",
   "execution_count": 1,
   "metadata": {},
   "outputs": [],
   "source": [
    "import os\n",
    "import sys\n",
    "from pathlib import Path\n",
    "\n",
    "sys.path.append(str(Path.cwd().parent))\n",
    "\n",
    "LIMIT = 100 # set the number of questions to evaluate\n",
    "results = {}\n",
    "\n",
    "# temporary output path for saving the data at each stage\n",
    "tmp_output_path = os.path.join('..', 'eval_data', 'limit_qa_data.json')\n",
    "results_path = os.path.join('..', 'eval_data', 'results.csv')"
   ]
  },
  {
   "cell_type": "markdown",
   "metadata": {},
   "source": [
    "## Load the data and prep the dataset"
   ]
  },
  {
   "cell_type": "code",
   "execution_count": 2,
   "metadata": {},
   "outputs": [],
   "source": [
    "import json\n",
    "\n",
    "data_dir = os.path.join('..', 'ConvFinQA/data/')\n",
    "\n",
    "train_data = json.load(open(os.path.join(data_dir, 'train.json')))"
   ]
  },
  {
   "cell_type": "markdown",
   "metadata": {},
   "source": [
    "Not all the data has qa, so we need to filter out the data that doesn't have qa"
   ]
  },
  {
   "cell_type": "code",
   "execution_count": 3,
   "metadata": {},
   "outputs": [],
   "source": [
    "qa_data = [\n",
    "    {\n",
    "        'id': data['id'],\n",
    "        'question': data[qa_key]['question'],\n",
    "        'answer': data[qa_key]['answer']\n",
    "    }\n",
    "    for data in train_data\n",
    "    for qa_key in [k for k in data.keys() if k == 'qa' or k.startswith('qa_')] # account for multiple qa keys\n",
    "]"
   ]
  },
  {
   "cell_type": "code",
   "execution_count": 4,
   "metadata": {},
   "outputs": [
    {
     "data": {
      "text/plain": [
       "[{'id': 'Single_JKHY/2009/page_28.pdf-3',\n",
       "  'question': 'what was the percentage change in the net cash from operating activities from 2008 to 2009',\n",
       "  'answer': '14.1%'},\n",
       " {'id': 'Single_RSG/2008/page_114.pdf-2',\n",
       "  'question': 'what was the percent of the growth in the revenues from 2007 to 2008',\n",
       "  'answer': '1.3%'},\n",
       " {'id': 'Single_AAPL/2002/page_23.pdf-1',\n",
       "  'question': 'what was the percentage change in net sales from 2000 to 2001?',\n",
       "  'answer': '-32%'},\n",
       " {'id': 'Single_UPS/2009/page_33.pdf-2',\n",
       "  'question': 'what was the difference in percentage cumulative return on investment for united parcel service inc . compared to the s&p 500 index for the five year period ended 12/31/09?',\n",
       "  'answer': '-26.16%'},\n",
       " {'id': 'Double_UPS/2009/page_33.pdf',\n",
       "  'question': 'what is the roi of an investment in ups in 2004 and sold in 2006?',\n",
       "  'answer': '-8.9%'}]"
      ]
     },
     "execution_count": 4,
     "metadata": {},
     "output_type": "execute_result"
    }
   ],
   "source": [
    "qa_data[:5]"
   ]
  },
  {
   "cell_type": "code",
   "execution_count": 5,
   "metadata": {},
   "outputs": [],
   "source": [
    "# only take the first LIMIT questions\n",
    "limit_qa_data = qa_data[:LIMIT]"
   ]
  },
  {
   "cell_type": "code",
   "execution_count": 6,
   "metadata": {},
   "outputs": [],
   "source": [
    "with open(tmp_output_path, 'w') as f:\n",
    "    json.dump(limit_qa_data, f, indent=4)"
   ]
  },
  {
   "cell_type": "markdown",
   "metadata": {},
   "source": [
    "## Retrieval\n",
    "First let's take a look at the retrieval stage.\n",
    "\n",
    "For this I will look at Recall and Mean Reciprocal Rank (MRR). \n",
    "\n",
    "Precision is less relevant here as we always retrieve K documents and there's only 1 relevant document for each question."
   ]
  },
  {
   "cell_type": "code",
   "execution_count": 7,
   "metadata": {},
   "outputs": [],
   "source": [
    "from src.nodes import retriever_node"
   ]
  },
  {
   "cell_type": "code",
   "execution_count": 8,
   "metadata": {},
   "outputs": [],
   "source": [
    "for data in limit_qa_data:\n",
    "    input_dict = {'question': data['question'], 'metadata_filtering': False}\n",
    "    retrieved_docs = retriever_node(input_dict)['retrieved_docs']\n",
    "    data['retrieved_docs'] = retrieved_docs\n",
    "\n",
    "    retrieved_docs_ids = [doc['id'] for doc in retrieved_docs]\n",
    "    if data['id'] in retrieved_docs_ids:\n",
    "        data['retrieved'] = 1\n",
    "        rank = retrieved_docs_ids.index(data['id']) + 1  # +1 because index starts at 0\n",
    "        data['reciprocal_rank'] = 1.0 / rank\n",
    "    else:\n",
    "        data['retrieved'] = 0\n",
    "        data['reciprocal_rank'] = 0"
   ]
  },
  {
   "cell_type": "code",
   "execution_count": 9,
   "metadata": {},
   "outputs": [
    {
     "name": "stdout",
     "output_type": "stream",
     "text": [
      "Overall Retrieval Recall: 0.620\n",
      "Overall Retrieval MRR: 0.268\n",
      "Successful Retrieval MRR: 0.432\n"
     ]
    }
   ],
   "source": [
    "# Calculate metrics\n",
    "retrieved_data = [d for d in limit_qa_data if d['retrieved'] == 1]\n",
    "num_retrieved = len(retrieved_data)\n",
    "\n",
    "retrieval_recall = sum(data['retrieved'] for data in limit_qa_data) / len(limit_qa_data)\n",
    "retrieval_mrr = sum(data['reciprocal_rank'] for data in limit_qa_data) / len(limit_qa_data)\n",
    "retrieval_mrr_retrieved = sum(data['reciprocal_rank'] for data in retrieved_data) / num_retrieved\n",
    "\n",
    "print(f\"Overall Retrieval Recall: {retrieval_recall:.3f}\")\n",
    "print(f\"Overall Retrieval MRR: {retrieval_mrr:.3f}\")\n",
    "print(f\"Successful Retrieval MRR: {retrieval_mrr_retrieved:.3f}\")"
   ]
  },
  {
   "cell_type": "code",
   "execution_count": 10,
   "metadata": {},
   "outputs": [],
   "source": [
    "results['overall_retrieval_recall'] = retrieval_recall\n",
    "results['overall_retrieval_mrr'] = retrieval_mrr\n",
    "results['successful_retrieval_mrr'] = retrieval_mrr_retrieved"
   ]
  },
  {
   "cell_type": "code",
   "execution_count": 11,
   "metadata": {},
   "outputs": [],
   "source": [
    "with open(tmp_output_path, 'w') as f:\n",
    "    json.dump(limit_qa_data, f, indent=4)"
   ]
  },
  {
   "cell_type": "markdown",
   "metadata": {},
   "source": [
    "### Metatdata Filtering Experiment\n",
    "Let's run the same epeiment with metadata filtering"
   ]
  },
  {
   "cell_type": "code",
   "execution_count": null,
   "metadata": {},
   "outputs": [],
   "source": [
    "for data in limit_qa_data:\n",
    "    input_dict = {'question': data['question'], 'metadata_filtering': True}\n",
    "    mf_retrieved_docs = retriever_node(input_dict)['retrieved_docs']\n",
    "    data['mf_retrieved_docs'] = mf_retrieved_docs\n",
    "\n",
    "    mf_retrieved_docs_ids = [doc['id'] for doc in mf_retrieved_docs]\n",
    "    if data['id'] in mf_retrieved_docs_ids:\n",
    "        data['mf_retrieved'] = 1\n",
    "        rank = mf_retrieved_docs_ids.index(data['id']) + 1  # +1 because index starts at 0\n",
    "        data['mf_reciprocal_rank'] = 1.0 / rank\n",
    "    else:\n",
    "        data['mf_retrieved'] = 0\n",
    "        data['mf_reciprocal_rank'] = 0"
   ]
  },
  {
   "cell_type": "code",
   "execution_count": 13,
   "metadata": {},
   "outputs": [
    {
     "name": "stdout",
     "output_type": "stream",
     "text": [
      "Overall MF Retrieval Recall: 0.580\n",
      "Overall MF Retrieval MRR: 0.312\n",
      "Successful MF Retrieval MRR: 0.538\n"
     ]
    }
   ],
   "source": [
    "# Calculate metrics\n",
    "mf_retrieved_data = [d for d in limit_qa_data if d['mf_retrieved'] == 1]\n",
    "num_mf_retrieved = len(mf_retrieved_data)\n",
    "\n",
    "mf_retrieval_recall = sum(data['mf_retrieved'] for data in limit_qa_data) / len(limit_qa_data)\n",
    "mf_retrieval_mrr = sum(data['mf_reciprocal_rank'] for data in limit_qa_data) / len(limit_qa_data)\n",
    "mf_retrieval_mrr_retrieved = sum(data['mf_reciprocal_rank'] for data in mf_retrieved_data) / num_mf_retrieved\n",
    "\n",
    "print(f\"Overall MF Retrieval Recall: {mf_retrieval_recall:.3f}\")\n",
    "print(f\"Overall MF Retrieval MRR: {mf_retrieval_mrr:.3f}\")\n",
    "print(f\"Successful MF Retrieval MRR: {mf_retrieval_mrr_retrieved:.3f}\")"
   ]
  },
  {
   "cell_type": "markdown",
   "metadata": {},
   "source": [
    "Metadata filter had little effect on retrieval performance. Marginally increasing MRR, but recall was reduced. Metadata filtering will not be used."
   ]
  },
  {
   "cell_type": "markdown",
   "metadata": {},
   "source": [
    "## Reranking\n",
    "Now let's analyse the reranking.\n",
    "\n",
    "This will also use Recall and MRR."
   ]
  },
  {
   "cell_type": "code",
   "execution_count": 14,
   "metadata": {},
   "outputs": [],
   "source": [
    "from src.nodes import reranker_node\n",
    "\n",
    "import time\n",
    "from tqdm import tqdm"
   ]
  },
  {
   "cell_type": "code",
   "execution_count": null,
   "metadata": {},
   "outputs": [],
   "source": [
    "for data in tqdm(limit_qa_data, desc=\"Reranking Documents\"):\n",
    "    input_dict = {'question': data['question'], 'retrieved_docs': data['retrieved_docs']}\n",
    "    reranked_docs = reranker_node(input_dict)['reranked_docs']\n",
    "    data['reranked_docs'] = reranked_docs\n",
    "\n",
    "    reranked_docs_ids = [doc['id'] for doc in reranked_docs]\n",
    "    if data['id'] in reranked_docs_ids:\n",
    "        data['reranked'] = 1\n",
    "        rank = reranked_docs_ids.index(data['id']) + 1  # +1 because index starts at 0\n",
    "        data['reranked_reciprocal_rank'] = 1.0 / rank\n",
    "    else:\n",
    "        data['reranked'] = 0\n",
    "        data['reranked_reciprocal_rank'] = 0\n",
    "\n",
    "    # Using the free tier Cohere API you get 10 requests per minute\n",
    "    # Comment this if you have a paid tier\n",
    "    time.sleep(6)"
   ]
  },
  {
   "cell_type": "code",
   "execution_count": 16,
   "metadata": {},
   "outputs": [
    {
     "name": "stdout",
     "output_type": "stream",
     "text": [
      "Overall Reranking Recall: 0.540\n",
      "Overall Reranking MRR: 0.427\n",
      "Successful Reranking Recall: 0.871\n",
      "Successful Reranking MRR: 0.790\n"
     ]
    }
   ],
   "source": [
    "# Calculate metrics\n",
    "reranked_data = [d for d in limit_qa_data if d['reranked'] == 1]\n",
    "num_reranked = len(reranked_data)\n",
    "\n",
    "reranking_recall = sum(data['reranked'] for data in limit_qa_data) / len(limit_qa_data)\n",
    "reranking_mrr = sum(data['reranked_reciprocal_rank'] for data in limit_qa_data) / len(limit_qa_data)\n",
    "reranked_recall_retrieved = sum(data['reranked'] for data in retrieved_data) / num_retrieved\n",
    "reranking_mrr_retrieved = sum(data['reranked_reciprocal_rank'] for data in reranked_data) / num_reranked\n",
    "\n",
    "print(f\"Overall Reranking Recall: {reranking_recall:.3f}\")\n",
    "print(f\"Overall Reranking MRR: {reranking_mrr:.3f}\")\n",
    "print(f\"Successful Reranking Recall: {reranked_recall_retrieved:.3f}\")\n",
    "print(f\"Successful Reranking MRR: {reranking_mrr_retrieved:.3f}\")"
   ]
  },
  {
   "cell_type": "code",
   "execution_count": 17,
   "metadata": {},
   "outputs": [],
   "source": [
    "results['overall_reranking_recall'] = reranking_recall\n",
    "results['overall_reranking_mrr'] = reranking_mrr\n",
    "results['successful_reranking_recall'] = reranked_recall_retrieved\n",
    "results['successful_reranking_mrr'] = reranking_mrr_retrieved"
   ]
  },
  {
   "cell_type": "code",
   "execution_count": 18,
   "metadata": {},
   "outputs": [],
   "source": [
    "with open(tmp_output_path, 'w') as f:\n",
    "    json.dump(limit_qa_data, f, indent=4)"
   ]
  },
  {
   "cell_type": "markdown",
   "metadata": {},
   "source": [
    "## LLM Correctness\n",
    "In other RAG systems where the answer is expected as a paragraph or may use multiple sources, LLM faithfulness can be  agood metric. In our case with ConvFinQA, the answer is expected as a single number, and therefore a more binary metric is more appropriate."
   ]
  },
  {
   "cell_type": "code",
   "execution_count": 20,
   "metadata": {},
   "outputs": [],
   "source": [
    "limit_qa_data = json.load(open(tmp_output_path))"
   ]
  },
  {
   "cell_type": "code",
   "execution_count": 21,
   "metadata": {},
   "outputs": [],
   "source": [
    "from src.nodes import answer_question_node\n",
    "\n",
    "import re\n",
    "import math"
   ]
  },
  {
   "cell_type": "code",
   "execution_count": 22,
   "metadata": {},
   "outputs": [],
   "source": [
    "def clean_number(text):\n",
    "    \"\"\"\n",
    "    Extract and normalize number from text, removing symbols and units.\n",
    "    Returns float or None if no number found.\n",
    "    \"\"\"\n",
    "    \n",
    "    # Remove common units and words\n",
    "    text = text.lower()\n",
    "    text = re.sub(r'%|percent|million|thousand|billion|m|k|b|\\$', '', text)\n",
    "\n",
    "    # handle yes/no answer present in the data\n",
    "    if text in ['yes', 'no']:\n",
    "        return text\n",
    "    \n",
    "    # Remove commas from numbers (e.g., \"25,000\" -> \"25000\")\n",
    "    text = re.sub(r'(\\d),(\\d)', r'\\1\\2', text)\n",
    "    \n",
    "    # Find numbers (including decimals and negatives)\n",
    "    numbers = re.findall(r'-?\\d*\\.?\\d+', text)\n",
    "    \n",
    "    if numbers:\n",
    "        return float(numbers[0])  # Return first number found\n",
    "    return None"
   ]
  },
  {
   "cell_type": "code",
   "execution_count": 23,
   "metadata": {},
   "outputs": [
    {
     "name": "stderr",
     "output_type": "stream",
     "text": [
      "Answering Questions: 0it [00:00, ?it/s]huggingface/tokenizers: The current process just got forked, after parallelism has already been used. Disabling parallelism to avoid deadlocks...\n",
      "To disable this warning, you can either:\n",
      "\t- Avoid using `tokenizers` before the fork if possible\n",
      "\t- Explicitly set the environment variable TOKENIZERS_PARALLELISM=(true | false)\n",
      "Answering Questions: 1it [00:01,  1.52s/it]"
     ]
    },
    {
     "name": "stdout",
     "output_type": "stream",
     "text": [
      "----------------------------------------------------------------------\n",
      "Document 1: Single_JKHY/2009/page_28.pdf-3\n",
      "Question 1: what was the percentage change in the net cash from operating activities from 2008 to 2009\n",
      "Original Answer: 14.1%\n",
      "RAG Answer: 14.2%\n",
      "Cleaned Original Answer: 14.1\n",
      "Cleaned RAG Answer: 14.2\n",
      "Correct: True\n",
      "----------------------------------------------------------------------\n",
      "\n",
      "\n"
     ]
    },
    {
     "name": "stderr",
     "output_type": "stream",
     "text": [
      "Answering Questions: 2it [00:03,  1.73s/it]"
     ]
    },
    {
     "name": "stdout",
     "output_type": "stream",
     "text": [
      "----------------------------------------------------------------------\n",
      "Document 2: Single_RSG/2008/page_114.pdf-2\n",
      "Question 2: what was the percent of the growth in the revenues from 2007 to 2008\n",
      "Original Answer: 1.3%\n",
      "RAG Answer: 16.0%\n",
      "Cleaned Original Answer: 1.3\n",
      "Cleaned RAG Answer: 16.0\n",
      "Correct: False\n",
      "----------------------------------------------------------------------\n",
      "\n",
      "\n"
     ]
    },
    {
     "name": "stderr",
     "output_type": "stream",
     "text": [
      "Answering Questions: 3it [00:05,  1.84s/it]"
     ]
    },
    {
     "name": "stdout",
     "output_type": "stream",
     "text": [
      "----------------------------------------------------------------------\n",
      "Document 3: Single_AAPL/2002/page_23.pdf-1\n",
      "Question 3: what was the percentage change in net sales from 2000 to 2001?\n",
      "Original Answer: -32%\n",
      "RAG Answer: 8%\n",
      "Cleaned Original Answer: -32.0\n",
      "Cleaned RAG Answer: 8.0\n",
      "Correct: False\n",
      "----------------------------------------------------------------------\n",
      "\n",
      "\n"
     ]
    },
    {
     "name": "stderr",
     "output_type": "stream",
     "text": [
      "Answering Questions: 4it [00:07,  1.82s/it]"
     ]
    },
    {
     "name": "stdout",
     "output_type": "stream",
     "text": [
      "----------------------------------------------------------------------\n",
      "Document 4: Single_UPS/2009/page_33.pdf-2\n",
      "Question 4: what was the difference in percentage cumulative return on investment for united parcel service inc . compared to the s&p 500 index for the five year period ended 12/31/09?\n",
      "Original Answer: -26.16%\n",
      "RAG Answer: -26.16%\n",
      "Cleaned Original Answer: -26.16\n",
      "Cleaned RAG Answer: -26.16\n",
      "Correct: True\n",
      "----------------------------------------------------------------------\n",
      "\n",
      "\n"
     ]
    },
    {
     "name": "stderr",
     "output_type": "stream",
     "text": [
      "Answering Questions: 5it [00:09,  1.90s/it]"
     ]
    },
    {
     "name": "stdout",
     "output_type": "stream",
     "text": [
      "----------------------------------------------------------------------\n",
      "Document 5: Double_UPS/2009/page_33.pdf\n",
      "Question 5: what is the roi of an investment in ups in 2004 and sold in 2006?\n",
      "Original Answer: -8.9%\n",
      "RAG Answer: -8.94%\n",
      "Cleaned Original Answer: -8.9\n",
      "Cleaned RAG Answer: -8.94\n",
      "Correct: True\n",
      "----------------------------------------------------------------------\n",
      "\n",
      "\n"
     ]
    },
    {
     "name": "stderr",
     "output_type": "stream",
     "text": [
      "Answering Questions: 6it [00:11,  2.13s/it]"
     ]
    },
    {
     "name": "stdout",
     "output_type": "stream",
     "text": [
      "----------------------------------------------------------------------\n",
      "Document 6: Double_UPS/2009/page_33.pdf\n",
      "Question 6: what was the difference in percentage cumulative return on investment for united parcel service inc . compared to the s&p 500 index for the five year period ended 12/31/09?\n",
      "Original Answer: -26.16%\n",
      "RAG Answer: -26.16%\n",
      "Cleaned Original Answer: -26.16\n",
      "Cleaned RAG Answer: -26.16\n",
      "Correct: True\n",
      "----------------------------------------------------------------------\n",
      "\n",
      "\n"
     ]
    },
    {
     "name": "stderr",
     "output_type": "stream",
     "text": [
      "Answering Questions: 7it [00:13,  2.06s/it]"
     ]
    },
    {
     "name": "stdout",
     "output_type": "stream",
     "text": [
      "----------------------------------------------------------------------\n",
      "Document 7: Single_CE/2010/page_134.pdf-2\n",
      "Question 7: what portion of the total shares subject to outstanding awards is under the 2009 global incentive plan?\n",
      "Original Answer: 70.1%\n",
      "RAG Answer: 2530454 shares\n",
      "Cleaned Original Answer: 70.1\n",
      "Cleaned RAG Answer: 2530454.0\n",
      "Correct: False\n",
      "----------------------------------------------------------------------\n",
      "\n",
      "\n"
     ]
    },
    {
     "name": "stderr",
     "output_type": "stream",
     "text": [
      "Answering Questions: 8it [00:15,  2.08s/it]"
     ]
    },
    {
     "name": "stdout",
     "output_type": "stream",
     "text": [
      "----------------------------------------------------------------------\n",
      "Document 8: Single_JPM/2013/page_104.pdf-2\n",
      "Question 8: what was the percentage increase in litigation reserves in 2012?\n",
      "Original Answer: 15.6%\n",
      "RAG Answer: 8%\n",
      "Cleaned Original Answer: 15.6\n",
      "Cleaned RAG Answer: 8.0\n",
      "Correct: False\n",
      "----------------------------------------------------------------------\n",
      "\n",
      "\n"
     ]
    },
    {
     "name": "stderr",
     "output_type": "stream",
     "text": [
      "Answering Questions: 9it [00:17,  2.01s/it]"
     ]
    },
    {
     "name": "stdout",
     "output_type": "stream",
     "text": [
      "----------------------------------------------------------------------\n",
      "Document 9: Double_MAS/2012/page_92.pdf\n",
      "Question 9: what was the percent of the change in the company 2019s warranty liability from 2011 to 2012\n",
      "Original Answer: 15.7%\n",
      "RAG Answer: 15.69%\n",
      "Cleaned Original Answer: 15.7\n",
      "Cleaned RAG Answer: 15.69\n",
      "Correct: True\n",
      "----------------------------------------------------------------------\n",
      "\n",
      "\n"
     ]
    },
    {
     "name": "stderr",
     "output_type": "stream",
     "text": [
      "Answering Questions: 10it [00:19,  1.83s/it]"
     ]
    },
    {
     "name": "stdout",
     "output_type": "stream",
     "text": [
      "----------------------------------------------------------------------\n",
      "Document 10: Double_MAS/2012/page_92.pdf\n",
      "Question 10: what was the percentage change in the company's warranty liability from 2011 to 2012?\n",
      "Original Answer: 16%\n",
      "RAG Answer: 15.69%\n",
      "Cleaned Original Answer: 16.0\n",
      "Cleaned RAG Answer: 15.69\n",
      "Correct: True\n",
      "----------------------------------------------------------------------\n",
      "\n",
      "\n"
     ]
    },
    {
     "name": "stderr",
     "output_type": "stream",
     "text": [
      "Answering Questions: 11it [00:21,  2.01s/it]"
     ]
    },
    {
     "name": "stdout",
     "output_type": "stream",
     "text": [
      "----------------------------------------------------------------------\n",
      "Document 11: Single_HIG/2004/page_122.pdf-2\n",
      "Question 11: what portion of total obligations are due within the next 3 years?\n",
      "Original Answer: 22.99%\n",
      "RAG Answer: $14,432 million\n",
      "Cleaned Original Answer: 22.99\n",
      "Cleaned RAG Answer: 14432.0\n",
      "Correct: False\n",
      "----------------------------------------------------------------------\n",
      "\n",
      "\n"
     ]
    },
    {
     "name": "stderr",
     "output_type": "stream",
     "text": [
      "Answering Questions: 12it [00:23,  2.05s/it]"
     ]
    },
    {
     "name": "stdout",
     "output_type": "stream",
     "text": [
      "----------------------------------------------------------------------\n",
      "Document 12: Single_SLG/2013/page_133.pdf-4\n",
      "Question 12: for the years ended december 31 , 2013 , 2012 and 2011 , what was the total in millions capitalized to assets associated with compensation expense related to long-term compensation plans , restricted stock and stock options?\\\\n\n",
      "Original Answer: 12\n",
      "RAG Answer: $4.5 million in 2013, $4.1 million in 2012, and $3.4 million in 2011\n",
      "Cleaned Original Answer: 12.0\n",
      "Cleaned RAG Answer: 4.5\n",
      "Correct: False\n",
      "----------------------------------------------------------------------\n",
      "\n",
      "\n"
     ]
    },
    {
     "name": "stderr",
     "output_type": "stream",
     "text": [
      "Answering Questions: 13it [00:28,  2.92s/it]"
     ]
    },
    {
     "name": "stdout",
     "output_type": "stream",
     "text": [
      "----------------------------------------------------------------------\n",
      "Document 13: Double_AES/2016/page_98.pdf\n",
      "Question 13: what was the change in millions between 2014 and 2015 of foreign currency transaction gains ( losses ) for aes corporation?\n",
      "Original Answer: 3\n",
      "RAG Answer: $3 million\n",
      "Cleaned Original Answer: 3.0\n",
      "Cleaned RAG Answer: 3.0\n",
      "Correct: True\n",
      "----------------------------------------------------------------------\n",
      "\n",
      "\n"
     ]
    },
    {
     "name": "stderr",
     "output_type": "stream",
     "text": [
      "Answering Questions: 14it [00:36,  4.47s/it]"
     ]
    },
    {
     "name": "stdout",
     "output_type": "stream",
     "text": [
      "----------------------------------------------------------------------\n",
      "Document 14: Double_AES/2016/page_98.pdf\n",
      "Question 14: what was the change in millions between 2015 and 2016 of foreign currency transaction gains ( losses ) for aes corporation?\n",
      "Original Answer: -19\n",
      "RAG Answer: $19 million\n",
      "Cleaned Original Answer: -19.0\n",
      "Cleaned RAG Answer: 19.0\n",
      "Correct: True\n",
      "----------------------------------------------------------------------\n",
      "\n",
      "\n"
     ]
    },
    {
     "name": "stderr",
     "output_type": "stream",
     "text": [
      "Answering Questions: 15it [00:42,  4.76s/it]"
     ]
    },
    {
     "name": "stdout",
     "output_type": "stream",
     "text": [
      "----------------------------------------------------------------------\n",
      "Document 15: Single_ETR/2008/page_336.pdf-3\n",
      "Question 15: what is the percent change in net revenue between 2007 and 2008?\n",
      "Original Answer: 2.4%\n",
      "RAG Answer: -3.22%\n",
      "Cleaned Original Answer: 2.4\n",
      "Cleaned RAG Answer: -3.22\n",
      "Correct: False\n",
      "----------------------------------------------------------------------\n",
      "\n",
      "\n"
     ]
    },
    {
     "name": "stderr",
     "output_type": "stream",
     "text": [
      "Answering Questions: 16it [00:48,  5.41s/it]"
     ]
    },
    {
     "name": "stdout",
     "output_type": "stream",
     "text": [
      "----------------------------------------------------------------------\n",
      "Document 16: Single_BKR/2017/page_105.pdf-2\n",
      "Question 16: what portion of the authorized shares of class b common stock is outstanding as of december 31 , 2017?\n",
      "Original Answer: 56.6%\n",
      "RAG Answer: 56.56%\n",
      "Cleaned Original Answer: 56.6\n",
      "Cleaned RAG Answer: 56.56\n",
      "Correct: True\n",
      "----------------------------------------------------------------------\n",
      "\n",
      "\n"
     ]
    },
    {
     "name": "stderr",
     "output_type": "stream",
     "text": [
      "Answering Questions: 17it [00:56,  5.96s/it]"
     ]
    },
    {
     "name": "stdout",
     "output_type": "stream",
     "text": [
      "----------------------------------------------------------------------\n",
      "Document 17: Double_AES/2011/page_230.pdf\n",
      "Question 17: as of december 31 , 2011 , what is the total in billions available under the committed credit facilities?\n",
      "Original Answer: 2.6\n",
      "RAG Answer: $3 billion\n",
      "Cleaned Original Answer: 2.6\n",
      "Cleaned RAG Answer: 3.0\n",
      "Correct: False\n",
      "----------------------------------------------------------------------\n",
      "\n",
      "\n"
     ]
    },
    {
     "name": "stderr",
     "output_type": "stream",
     "text": [
      "Answering Questions: 18it [01:04,  6.58s/it]"
     ]
    },
    {
     "name": "stdout",
     "output_type": "stream",
     "text": [
      "----------------------------------------------------------------------\n",
      "Document 18: Double_AES/2011/page_230.pdf\n",
      "Question 18: what percentage of total non-recourse debt as of december 31 , 2011 is due in 2014?\n",
      "Original Answer: 11%\n",
      "RAG Answer: 10.55%\n",
      "Cleaned Original Answer: 11.0\n",
      "Cleaned RAG Answer: 10.55\n",
      "Correct: True\n",
      "----------------------------------------------------------------------\n",
      "\n",
      "\n"
     ]
    },
    {
     "name": "stderr",
     "output_type": "stream",
     "text": [
      "Answering Questions: 19it [01:06,  5.21s/it]"
     ]
    },
    {
     "name": "stdout",
     "output_type": "stream",
     "text": [
      "----------------------------------------------------------------------\n",
      "Document 19: Single_JPM/2016/page_73.pdf-4\n",
      "Question 19: what was the 5 year return of the kbw bank index?\n",
      "Original Answer: 158.82%\n",
      "RAG Answer: 131%\n",
      "Cleaned Original Answer: 158.82\n",
      "Cleaned RAG Answer: 131.0\n",
      "Correct: False\n",
      "----------------------------------------------------------------------\n",
      "\n",
      "\n"
     ]
    },
    {
     "name": "stderr",
     "output_type": "stream",
     "text": [
      "Answering Questions: 20it [01:15,  6.34s/it]"
     ]
    },
    {
     "name": "stdout",
     "output_type": "stream",
     "text": [
      "----------------------------------------------------------------------\n",
      "Document 20: Double_ADBE/2018/page_66.pdf\n",
      "Question 20: what is the average yearly amortization expense related to trademarks?\n",
      "Original Answer: 11.1%\n",
      "RAG Answer: $25.14 million\n",
      "Cleaned Original Answer: 11.1\n",
      "Cleaned RAG Answer: 25.14\n",
      "Correct: False\n",
      "----------------------------------------------------------------------\n",
      "\n",
      "\n"
     ]
    },
    {
     "name": "stderr",
     "output_type": "stream",
     "text": [
      "Answering Questions: 21it [01:20,  6.01s/it]"
     ]
    },
    {
     "name": "stdout",
     "output_type": "stream",
     "text": [
      "----------------------------------------------------------------------\n",
      "Document 21: Double_ADBE/2018/page_66.pdf\n",
      "Question 21: what is the average yearly amortization expense related to purchased technology?\n",
      "Original Answer: 16.7%\n",
      "RAG Answer: $65 million\n",
      "Cleaned Original Answer: 16.7\n",
      "Cleaned RAG Answer: 65.0\n",
      "Correct: False\n",
      "----------------------------------------------------------------------\n",
      "\n",
      "\n"
     ]
    },
    {
     "name": "stderr",
     "output_type": "stream",
     "text": [
      "Answering Questions: 22it [01:29,  7.03s/it]"
     ]
    },
    {
     "name": "stdout",
     "output_type": "stream",
     "text": [
      "----------------------------------------------------------------------\n",
      "Document 22: Double_PNC/2014/page_99.pdf\n",
      "Question 22: in 2014 what was the percent of the change associated with total net charge-offs\n",
      "Original Answer: 14.7%\n",
      "RAG Answer: 50.7%\n",
      "Cleaned Original Answer: 14.7\n",
      "Cleaned RAG Answer: 50.7\n",
      "Correct: False\n",
      "----------------------------------------------------------------------\n",
      "\n",
      "\n"
     ]
    },
    {
     "name": "stderr",
     "output_type": "stream",
     "text": [
      "Answering Questions: 23it [01:38,  7.62s/it]"
     ]
    },
    {
     "name": "stdout",
     "output_type": "stream",
     "text": [
      "----------------------------------------------------------------------\n",
      "Document 23: Double_PNC/2014/page_99.pdf\n",
      "Question 23: what was the ratio of the provision for credit losses in 2014 compared 2013 .\n",
      "Original Answer: .43\n",
      "RAG Answer: 0.424\n",
      "Cleaned Original Answer: 0.43\n",
      "Cleaned RAG Answer: 0.424\n",
      "Correct: True\n",
      "----------------------------------------------------------------------\n",
      "\n",
      "\n"
     ]
    },
    {
     "name": "stderr",
     "output_type": "stream",
     "text": [
      "Answering Questions: 24it [01:46,  7.65s/it]"
     ]
    },
    {
     "name": "stdout",
     "output_type": "stream",
     "text": [
      "----------------------------------------------------------------------\n",
      "Document 24: Single_BLK/2017/page_35.pdf-4\n",
      "Question 24: what is the percentage change in the balance of asset allocation from 2016 to 2017?\n",
      "Original Answer: 11.2%\n",
      "RAG Answer: 98.57%\n",
      "Cleaned Original Answer: 11.2\n",
      "Cleaned RAG Answer: 98.57\n",
      "Correct: False\n",
      "----------------------------------------------------------------------\n",
      "\n",
      "\n"
     ]
    },
    {
     "name": "stderr",
     "output_type": "stream",
     "text": [
      "Answering Questions: 25it [01:51,  6.69s/it]"
     ]
    },
    {
     "name": "stdout",
     "output_type": "stream",
     "text": [
      "----------------------------------------------------------------------\n",
      "Document 25: Single_HII/2015/page_120.pdf-4\n",
      "Question 25: between 2015 and 2013 what was the average compensation expense related to the issuing of the stock award in millions\n",
      "Original Answer: 40.3\n",
      "RAG Answer: $40.33 million\n",
      "Cleaned Original Answer: 40.3\n",
      "Cleaned RAG Answer: 40.33\n",
      "Correct: True\n",
      "----------------------------------------------------------------------\n",
      "\n",
      "\n"
     ]
    },
    {
     "name": "stderr",
     "output_type": "stream",
     "text": [
      "Answering Questions: 26it [02:02,  8.20s/it]"
     ]
    },
    {
     "name": "stdout",
     "output_type": "stream",
     "text": [
      "----------------------------------------------------------------------\n",
      "Document 26: Single_AMT/2002/page_104.pdf-2\n",
      "Question 26: what is the total expected payments for principal of long- term debt , including capital leases in the next 36 months?\n",
      "Original Answer: 594840\n",
      "RAG Answer: $1,747 million\n",
      "Cleaned Original Answer: 594840.0\n",
      "Cleaned RAG Answer: 1747.0\n",
      "Correct: False\n",
      "----------------------------------------------------------------------\n",
      "\n",
      "\n"
     ]
    },
    {
     "name": "stderr",
     "output_type": "stream",
     "text": [
      "Answering Questions: 27it [02:05,  6.70s/it]"
     ]
    },
    {
     "name": "stdout",
     "output_type": "stream",
     "text": [
      "----------------------------------------------------------------------\n",
      "Document 27: Single_VRTX/2005/page_103.pdf-1\n",
      "Question 27: what is the percent change in net loss on disposal of assets between 2004 and 2005?\n",
      "Original Answer: 700%\n",
      "RAG Answer: 700%\n",
      "Cleaned Original Answer: 700.0\n",
      "Cleaned RAG Answer: 700.0\n",
      "Correct: True\n",
      "----------------------------------------------------------------------\n",
      "\n",
      "\n"
     ]
    },
    {
     "name": "stderr",
     "output_type": "stream",
     "text": [
      "Answering Questions: 28it [02:08,  5.44s/it]"
     ]
    },
    {
     "name": "stdout",
     "output_type": "stream",
     "text": [
      "----------------------------------------------------------------------\n",
      "Document 28: Single_STT/2013/page_54.pdf-4\n",
      "Question 28: how much higher are the returns of the s&p 500 in the same period ( 2008-2013 ) ? as a percentage .\n",
      "Original Answer: 30%\n",
      "RAG Answer: 61%\n",
      "Cleaned Original Answer: 30.0\n",
      "Cleaned RAG Answer: 61.0\n",
      "Correct: False\n",
      "----------------------------------------------------------------------\n",
      "\n",
      "\n"
     ]
    },
    {
     "name": "stderr",
     "output_type": "stream",
     "text": [
      "Answering Questions: 29it [02:18,  6.85s/it]"
     ]
    },
    {
     "name": "stdout",
     "output_type": "stream",
     "text": [
      "----------------------------------------------------------------------\n",
      "Document 29: Single_GS/2014/page_62.pdf-2\n",
      "Question 29: what is the percentage change in standardized rwas in 2014?\n",
      "Original Answer: -1.2%\n",
      "RAG Answer: -1.2%\n",
      "Cleaned Original Answer: -1.2\n",
      "Cleaned RAG Answer: -1.2\n",
      "Correct: True\n",
      "----------------------------------------------------------------------\n",
      "\n",
      "\n"
     ]
    },
    {
     "name": "stderr",
     "output_type": "stream",
     "text": [
      "Answering Questions: 30it [02:24,  6.64s/it]"
     ]
    },
    {
     "name": "stdout",
     "output_type": "stream",
     "text": [
      "----------------------------------------------------------------------\n",
      "Document 30: Double_GPN/2018/page_85.pdf\n",
      "Question 30: how much did the annual payments increase from 2019 to 2024 and beyond?\n",
      "Original Answer: 350824 thousand\n",
      "RAG Answer: $102.7 million\n",
      "Cleaned Original Answer: 350824.0\n",
      "Cleaned RAG Answer: 102.7\n",
      "Correct: False\n",
      "----------------------------------------------------------------------\n",
      "\n",
      "\n"
     ]
    },
    {
     "name": "stderr",
     "output_type": "stream",
     "text": [
      "Answering Questions: 31it [02:29,  6.02s/it]"
     ]
    },
    {
     "name": "stdout",
     "output_type": "stream",
     "text": [
      "----------------------------------------------------------------------\n",
      "Document 31: Double_GPN/2018/page_85.pdf\n",
      "Question 31: what is the yearly interest expense incurred from term a loan , ( in millions ) ?\n",
      "Original Answer: 60.3\n",
      "RAG Answer: $26.4 million\n",
      "Cleaned Original Answer: 60.3\n",
      "Cleaned RAG Answer: 26.4\n",
      "Correct: False\n",
      "----------------------------------------------------------------------\n",
      "\n",
      "\n"
     ]
    },
    {
     "name": "stderr",
     "output_type": "stream",
     "text": [
      "Answering Questions: 32it [02:31,  4.74s/it]"
     ]
    },
    {
     "name": "stdout",
     "output_type": "stream",
     "text": [
      "----------------------------------------------------------------------\n",
      "Document 32: Double_EW/2016/page_36.pdf\n",
      "Question 32: what was the percentage cumulative total return for edwards lifesciences for the five years ended 2016?\n",
      "Original Answer: 165%\n",
      "RAG Answer: 165.06%\n",
      "Cleaned Original Answer: 165.0\n",
      "Cleaned RAG Answer: 165.06\n",
      "Correct: True\n",
      "----------------------------------------------------------------------\n",
      "\n",
      "\n"
     ]
    },
    {
     "name": "stderr",
     "output_type": "stream",
     "text": [
      "Answering Questions: 33it [02:42,  6.67s/it]"
     ]
    },
    {
     "name": "stdout",
     "output_type": "stream",
     "text": [
      "----------------------------------------------------------------------\n",
      "Document 33: Double_EW/2016/page_36.pdf\n",
      "Question 33: what was the difference in cumulative percentage returns between edwards lifesciences and the s&p 500 for the five years ended 2016?\n",
      "Original Answer: 67%\n",
      "RAG Answer: 66.88%\n",
      "Cleaned Original Answer: 67.0\n",
      "Cleaned RAG Answer: 66.88\n",
      "Correct: True\n",
      "----------------------------------------------------------------------\n",
      "\n",
      "\n"
     ]
    },
    {
     "name": "stderr",
     "output_type": "stream",
     "text": [
      "Answering Questions: 34it [02:43,  5.14s/it]"
     ]
    },
    {
     "name": "stdout",
     "output_type": "stream",
     "text": [
      "----------------------------------------------------------------------\n",
      "Document 34: Single_ADI/2009/page_90.pdf-3\n",
      "Question 34: what percentage did the balance increase from 2007 to 2009?\n",
      "Original Answer: 83.6%\n",
      "RAG Answer: 118.6%\n",
      "Cleaned Original Answer: 83.6\n",
      "Cleaned RAG Answer: 118.6\n",
      "Correct: False\n",
      "----------------------------------------------------------------------\n",
      "\n",
      "\n"
     ]
    },
    {
     "name": "stderr",
     "output_type": "stream",
     "text": [
      "Answering Questions: 35it [02:49,  5.29s/it]"
     ]
    },
    {
     "name": "stdout",
     "output_type": "stream",
     "text": [
      "----------------------------------------------------------------------\n",
      "Document 35: Single_AON/2007/page_185.pdf-4\n",
      "Question 35: what is the percentual decrease observed in the future minimum rental payments during 2008 and 2009?\n",
      "Original Answer: 13.25%\n",
      "RAG Answer: -62.5%\n",
      "Cleaned Original Answer: 13.25\n",
      "Cleaned RAG Answer: -62.5\n",
      "Correct: False\n",
      "----------------------------------------------------------------------\n",
      "\n",
      "\n"
     ]
    },
    {
     "name": "stderr",
     "output_type": "stream",
     "text": [
      "Answering Questions: 36it [03:03,  7.89s/it]"
     ]
    },
    {
     "name": "stdout",
     "output_type": "stream",
     "text": [
      "----------------------------------------------------------------------\n",
      "Document 36: Single_ZBH/2002/page_46.pdf-3\n",
      "Question 36: what was the percentage change of total debt from 2001 to 2002?\n",
      "Original Answer: -57%\n",
      "RAG Answer: -56.94%\n",
      "Cleaned Original Answer: -57.0\n",
      "Cleaned RAG Answer: -56.94\n",
      "Correct: True\n",
      "----------------------------------------------------------------------\n",
      "\n",
      "\n"
     ]
    },
    {
     "name": "stderr",
     "output_type": "stream",
     "text": [
      "Answering Questions: 37it [03:08,  7.17s/it]"
     ]
    },
    {
     "name": "stdout",
     "output_type": "stream",
     "text": [
      "----------------------------------------------------------------------\n",
      "Document 37: Single_HII/2015/page_120.pdf-1\n",
      "Question 37: what is the total revenue for the fiscal year of 2015?\n",
      "Original Answer: 7020\n",
      "RAG Answer: $7,426 million\n",
      "Cleaned Original Answer: 7020.0\n",
      "Cleaned RAG Answer: 7426.0\n",
      "Correct: False\n",
      "----------------------------------------------------------------------\n",
      "\n",
      "\n"
     ]
    },
    {
     "name": "stderr",
     "output_type": "stream",
     "text": [
      "Answering Questions: 38it [03:14,  6.74s/it]"
     ]
    },
    {
     "name": "stdout",
     "output_type": "stream",
     "text": [
      "----------------------------------------------------------------------\n",
      "Document 38: Single_AES/2002/page_117.pdf-2\n",
      "Question 38: what was the percentage change in revenues for investments in 50% ( 50 % ) or less owned investments accounted for using the equity method between 2000 and 2001?\n",
      "Original Answer: -2%\n",
      "RAG Answer: -1.5%\n",
      "Cleaned Original Answer: -2.0\n",
      "Cleaned RAG Answer: -1.5\n",
      "Correct: True\n",
      "----------------------------------------------------------------------\n",
      "\n",
      "\n"
     ]
    },
    {
     "name": "stderr",
     "output_type": "stream",
     "text": [
      "Answering Questions: 39it [03:21,  6.82s/it]"
     ]
    },
    {
     "name": "stdout",
     "output_type": "stream",
     "text": [
      "----------------------------------------------------------------------\n",
      "Document 39: Single_ALXN/2016/page_89.pdf-1\n",
      "Question 39: how many square feet are owned by the company?\n",
      "Original Answer: 377000\n",
      "RAG Answer: 5,889,000 square feet\n",
      "Cleaned Original Answer: 377000.0\n",
      "Cleaned RAG Answer: 5889000.0\n",
      "Correct: False\n",
      "----------------------------------------------------------------------\n",
      "\n",
      "\n"
     ]
    },
    {
     "name": "stderr",
     "output_type": "stream",
     "text": [
      "Answering Questions: 40it [03:30,  7.54s/it]"
     ]
    },
    {
     "name": "stdout",
     "output_type": "stream",
     "text": [
      "----------------------------------------------------------------------\n",
      "Document 40: Single_AON/2018/page_41.pdf-3\n",
      "Question 40: considering the years 2017 and 2018 , what is the percentual increase observed in capital expenditures used for continuing operations?\n",
      "Original Answer: 31.14%\n",
      "RAG Answer: 29.41%\n",
      "Cleaned Original Answer: 31.14\n",
      "Cleaned RAG Answer: 29.41\n",
      "Correct: False\n",
      "----------------------------------------------------------------------\n",
      "\n",
      "\n"
     ]
    },
    {
     "name": "stderr",
     "output_type": "stream",
     "text": [
      "Answering Questions: 41it [03:38,  7.54s/it]"
     ]
    },
    {
     "name": "stdout",
     "output_type": "stream",
     "text": [
      "----------------------------------------------------------------------\n",
      "Document 41: Single_RSG/2012/page_145.pdf-1\n",
      "Question 41: what was the percentage decline in the total restricted cash and marketable securities from 2011 to 2012\n",
      "Original Answer: -13.4%\n",
      "RAG Answer: 13.4%\n",
      "Cleaned Original Answer: -13.4\n",
      "Cleaned RAG Answer: 13.4\n",
      "Correct: True\n",
      "----------------------------------------------------------------------\n",
      "\n",
      "\n"
     ]
    },
    {
     "name": "stderr",
     "output_type": "stream",
     "text": [
      "Answering Questions: 42it [03:47,  8.04s/it]"
     ]
    },
    {
     "name": "stdout",
     "output_type": "stream",
     "text": [
      "----------------------------------------------------------------------\n",
      "Document 42: Double_CB/2008/page_144.pdf\n",
      "Question 42: what was the ratio of the pre-tax impact on equity of hypothetical 10 percent strengthening of the u.s . dollar in 2007 to 2008\n",
      "Original Answer: 1.79\n",
      "RAG Answer: 0.56\n",
      "Cleaned Original Answer: 1.79\n",
      "Cleaned RAG Answer: 0.56\n",
      "Correct: False\n",
      "----------------------------------------------------------------------\n",
      "\n",
      "\n"
     ]
    },
    {
     "name": "stderr",
     "output_type": "stream",
     "text": [
      "Answering Questions: 43it [03:55,  7.93s/it]"
     ]
    },
    {
     "name": "stdout",
     "output_type": "stream",
     "text": [
      "----------------------------------------------------------------------\n",
      "Document 43: Double_CB/2008/page_144.pdf\n",
      "Question 43: what is percentage change in fair value of net assets denominated in foreign currencies from 2007 to 2008?\n",
      "Original Answer: -31.7%\n",
      "RAG Answer: -31.73%\n",
      "Cleaned Original Answer: -31.7\n",
      "Cleaned RAG Answer: -31.73\n",
      "Correct: True\n",
      "----------------------------------------------------------------------\n",
      "\n",
      "\n"
     ]
    },
    {
     "name": "stderr",
     "output_type": "stream",
     "text": [
      "Answering Questions: 44it [04:02,  7.72s/it]"
     ]
    },
    {
     "name": "stdout",
     "output_type": "stream",
     "text": [
      "----------------------------------------------------------------------\n",
      "Document 44: Single_STT/2011/page_94.pdf-3\n",
      "Question 44: what was the percent change in the value of commercial paper outstanding between 2010 and 2011?\n",
      "Original Answer: 18%\n",
      "RAG Answer: -100%\n",
      "Cleaned Original Answer: 18.0\n",
      "Cleaned RAG Answer: -100.0\n",
      "Correct: False\n",
      "----------------------------------------------------------------------\n",
      "\n",
      "\n"
     ]
    },
    {
     "name": "stderr",
     "output_type": "stream",
     "text": [
      "Answering Questions: 45it [04:06,  6.63s/it]"
     ]
    },
    {
     "name": "stdout",
     "output_type": "stream",
     "text": [
      "----------------------------------------------------------------------\n",
      "Document 45: Single_L/2016/page_62.pdf-1\n",
      "Question 45: what was the growth rate of the s&p 500 index from 2011 to 2016\n",
      "Original Answer: 98.2%\n",
      "RAG Answer: 98.1%\n",
      "Cleaned Original Answer: 98.2\n",
      "Cleaned RAG Answer: 98.1\n",
      "Correct: True\n",
      "----------------------------------------------------------------------\n",
      "\n",
      "\n"
     ]
    },
    {
     "name": "stderr",
     "output_type": "stream",
     "text": [
      "Answering Questions: 46it [04:16,  7.58s/it]"
     ]
    },
    {
     "name": "stdout",
     "output_type": "stream",
     "text": [
      "----------------------------------------------------------------------\n",
      "Document 46: Single_JPM/2009/page_206.pdf-3\n",
      "Question 46: what was the firm's average sum of contractual principal , interest and fees in 2008 and 2009?\n",
      "Original Answer: $ 110774.5 million\n",
      "RAG Answer: $110,774.5 million\n",
      "Cleaned Original Answer: 110774.5\n",
      "Cleaned RAG Answer: 110774.5\n",
      "Correct: True\n",
      "----------------------------------------------------------------------\n",
      "\n",
      "\n"
     ]
    },
    {
     "name": "stderr",
     "output_type": "stream",
     "text": [
      "Answering Questions: 47it [04:23,  7.41s/it]"
     ]
    },
    {
     "name": "stdout",
     "output_type": "stream",
     "text": [
      "----------------------------------------------------------------------\n",
      "Document 47: Single_GS/2013/page_47.pdf-2\n",
      "Question 47: what is the percentage change in staff number in 2013?\n",
      "Original Answer: 1.5%\n",
      "RAG Answer: 8.57%\n",
      "Cleaned Original Answer: 1.5\n",
      "Cleaned RAG Answer: 8.57\n",
      "Correct: False\n",
      "----------------------------------------------------------------------\n",
      "\n",
      "\n"
     ]
    },
    {
     "name": "stderr",
     "output_type": "stream",
     "text": [
      "Answering Questions: 48it [04:29,  7.08s/it]"
     ]
    },
    {
     "name": "stdout",
     "output_type": "stream",
     "text": [
      "----------------------------------------------------------------------\n",
      "Document 48: Single_WRK/2019/page_49.pdf-1\n",
      "Question 48: in 2019 what was the net change in cash in millions\n",
      "Original Answer: -489.2\n",
      "RAG Answer: Not provided in the documents.\n",
      "Cleaned Original Answer: -489.2\n",
      "Cleaned RAG Answer: None\n",
      "Correct: False\n",
      "----------------------------------------------------------------------\n",
      "\n",
      "\n"
     ]
    },
    {
     "name": "stderr",
     "output_type": "stream",
     "text": [
      "Answering Questions: 49it [04:35,  6.73s/it]"
     ]
    },
    {
     "name": "stdout",
     "output_type": "stream",
     "text": [
      "----------------------------------------------------------------------\n",
      "Document 49: Single_LMT/2014/page_31.pdf-2\n",
      "Question 49: what is the growth rate in the average price of the purchased shares from october to november 2014?\n",
      "Original Answer: 6.1%\n",
      "RAG Answer: 7.19%\n",
      "Cleaned Original Answer: 6.1\n",
      "Cleaned RAG Answer: 7.19\n",
      "Correct: False\n",
      "----------------------------------------------------------------------\n",
      "\n",
      "\n"
     ]
    },
    {
     "name": "stderr",
     "output_type": "stream",
     "text": [
      "Answering Questions: 50it [04:39,  5.87s/it]"
     ]
    },
    {
     "name": "stdout",
     "output_type": "stream",
     "text": [
      "----------------------------------------------------------------------\n",
      "Document 50: Double_NCLH/2017/page_57.pdf\n",
      "Question 50: what will be the balance of long-term debt after 1 year assuming that everything is paid as planned and no additional debt is raised?\n",
      "Original Answer: 5805209\n",
      "RAG Answer: $5,156.7 million\n",
      "Cleaned Original Answer: 5805209.0\n",
      "Cleaned RAG Answer: 5156.7\n",
      "Correct: False\n",
      "----------------------------------------------------------------------\n",
      "\n",
      "\n"
     ]
    },
    {
     "name": "stderr",
     "output_type": "stream",
     "text": [
      "Answering Questions: 51it [04:49,  7.06s/it]"
     ]
    },
    {
     "name": "stdout",
     "output_type": "stream",
     "text": [
      "----------------------------------------------------------------------\n",
      "Document 51: Double_NCLH/2017/page_57.pdf\n",
      "Question 51: what portion of the expected payments within the next 12 months is allocated to the repayment of long-term debt?\n",
      "Original Answer: 31.7%\n",
      "RAG Answer: $1,125 million\n",
      "Cleaned Original Answer: 31.7\n",
      "Cleaned RAG Answer: 1125.0\n",
      "Correct: False\n",
      "----------------------------------------------------------------------\n",
      "\n",
      "\n"
     ]
    },
    {
     "name": "stderr",
     "output_type": "stream",
     "text": [
      "Answering Questions: 52it [04:55,  6.71s/it]"
     ]
    },
    {
     "name": "stdout",
     "output_type": "stream",
     "text": [
      "----------------------------------------------------------------------\n",
      "Document 52: Double_WRK/2018/page_53.pdf\n",
      "Question 52: in 2018 , what percent of the net cash from operations is retained after financing and investing activities?\n",
      "Original Answer: 15.16%\n",
      "RAG Answer: 100%\n",
      "Cleaned Original Answer: 15.16\n",
      "Cleaned RAG Answer: 100.0\n",
      "Correct: False\n",
      "----------------------------------------------------------------------\n",
      "\n",
      "\n"
     ]
    },
    {
     "name": "stderr",
     "output_type": "stream",
     "text": [
      "Answering Questions: 53it [05:03,  7.08s/it]"
     ]
    },
    {
     "name": "stdout",
     "output_type": "stream",
     "text": [
      "----------------------------------------------------------------------\n",
      "Document 53: Double_WRK/2018/page_53.pdf\n",
      "Question 53: as of september 30 , 2018 , what was the percent of the total debt that was current .\n",
      "Original Answer: 11.55%\n",
      "RAG Answer: 11.54%\n",
      "Cleaned Original Answer: 11.55\n",
      "Cleaned RAG Answer: 11.54\n",
      "Correct: True\n",
      "----------------------------------------------------------------------\n",
      "\n",
      "\n"
     ]
    },
    {
     "name": "stderr",
     "output_type": "stream",
     "text": [
      "Answering Questions: 54it [05:05,  5.57s/it]"
     ]
    },
    {
     "name": "stdout",
     "output_type": "stream",
     "text": [
      "----------------------------------------------------------------------\n",
      "Document 54: Single_ORLY/2015/page_28.pdf-4\n",
      "Question 54: what is the roi of an investment in the o'reilly automotive inc . from 2010 to 2011?\n",
      "Original Answer: 32%\n",
      "RAG Answer: 32%\n",
      "Cleaned Original Answer: 32.0\n",
      "Cleaned RAG Answer: 32.0\n",
      "Correct: True\n",
      "----------------------------------------------------------------------\n",
      "\n",
      "\n"
     ]
    },
    {
     "name": "stderr",
     "output_type": "stream",
     "text": [
      "Answering Questions: 55it [05:13,  6.39s/it]"
     ]
    },
    {
     "name": "stdout",
     "output_type": "stream",
     "text": [
      "----------------------------------------------------------------------\n",
      "Document 55: Single_SWKS/2010/page_105.pdf-2\n",
      "Question 55: what is the percent increase in cash and cash equivalents from year 2009 to 2010?\n",
      "Original Answer: 24.4%\n",
      "RAG Answer: 24.4%\n",
      "Cleaned Original Answer: 24.4\n",
      "Cleaned RAG Answer: 24.4\n",
      "Correct: True\n",
      "----------------------------------------------------------------------\n",
      "\n",
      "\n"
     ]
    },
    {
     "name": "stderr",
     "output_type": "stream",
     "text": [
      "Answering Questions: 56it [05:22,  7.08s/it]"
     ]
    },
    {
     "name": "stdout",
     "output_type": "stream",
     "text": [
      "----------------------------------------------------------------------\n",
      "Document 56: Single_MRO/2004/page_57.pdf-4\n",
      "Question 56: by what percent did effects of foreign operations decrease from 2002 to 2004?\n",
      "Original Answer: -76.8%\n",
      "RAG Answer: 76.79%\n",
      "Cleaned Original Answer: -76.8\n",
      "Cleaned RAG Answer: 76.79\n",
      "Correct: True\n",
      "----------------------------------------------------------------------\n",
      "\n",
      "\n"
     ]
    },
    {
     "name": "stderr",
     "output_type": "stream",
     "text": [
      "Answering Questions: 57it [05:28,  6.90s/it]"
     ]
    },
    {
     "name": "stdout",
     "output_type": "stream",
     "text": [
      "----------------------------------------------------------------------\n",
      "Document 57: Single_ETR/2011/page_22.pdf-3\n",
      "Question 57: what was the percentage change of the net revenue in 2010\n",
      "Original Answer: 7.61%\n",
      "RAG Answer: 24.2%\n",
      "Cleaned Original Answer: 7.61\n",
      "Cleaned RAG Answer: 24.2\n",
      "Correct: False\n",
      "----------------------------------------------------------------------\n",
      "\n",
      "\n"
     ]
    },
    {
     "name": "stderr",
     "output_type": "stream",
     "text": [
      "Answering Questions: 58it [05:37,  7.38s/it]"
     ]
    },
    {
     "name": "stdout",
     "output_type": "stream",
     "text": [
      "----------------------------------------------------------------------\n",
      "Document 58: Single_IP/2007/page_19.pdf-2\n",
      "Question 58: what was the percentage change in industry segment operating profits from 2006 to 2007?\n",
      "Original Answer: 17%\n",
      "RAG Answer: 16.8%\n",
      "Cleaned Original Answer: 17.0\n",
      "Cleaned RAG Answer: 16.8\n",
      "Correct: True\n",
      "----------------------------------------------------------------------\n",
      "\n",
      "\n"
     ]
    },
    {
     "name": "stderr",
     "output_type": "stream",
     "text": [
      "Answering Questions: 59it [05:47,  8.24s/it]"
     ]
    },
    {
     "name": "stdout",
     "output_type": "stream",
     "text": [
      "----------------------------------------------------------------------\n",
      "Document 59: Single_RCL/2006/page_37.pdf-2\n",
      "Question 59: what was the percentage increase in the cash and cash equivalents from 2005 to 2006\n",
      "Original Answer: -16.6%\n",
      "RAG Answer: 81.25%\n",
      "Cleaned Original Answer: -16.6\n",
      "Cleaned RAG Answer: 81.25\n",
      "Correct: False\n",
      "----------------------------------------------------------------------\n",
      "\n",
      "\n"
     ]
    },
    {
     "name": "stderr",
     "output_type": "stream",
     "text": [
      "Answering Questions: 60it [05:53,  7.67s/it]"
     ]
    },
    {
     "name": "stdout",
     "output_type": "stream",
     "text": [
      "----------------------------------------------------------------------\n",
      "Document 60: Single_MRO/2008/page_135.pdf-1\n",
      "Question 60: by how much did asset retirement obligations decrease from 2007 to 2008?\n",
      "Original Answer: -14.9%\n",
      "RAG Answer: $169 million\n",
      "Cleaned Original Answer: -14.9\n",
      "Cleaned RAG Answer: 169.0\n",
      "Correct: False\n",
      "----------------------------------------------------------------------\n",
      "\n",
      "\n"
     ]
    },
    {
     "name": "stderr",
     "output_type": "stream",
     "text": [
      "Answering Questions: 61it [06:01,  7.83s/it]"
     ]
    },
    {
     "name": "stdout",
     "output_type": "stream",
     "text": [
      "----------------------------------------------------------------------\n",
      "Document 61: Single_IP/2009/page_36.pdf-1\n",
      "Question 61: north american printing papers net sales where what percent of total printing paper sales in 2009?\n",
      "Original Answer: 49%\n",
      "RAG Answer: 49.3%\n",
      "Cleaned Original Answer: 49.0\n",
      "Cleaned RAG Answer: 49.3\n",
      "Correct: True\n",
      "----------------------------------------------------------------------\n",
      "\n",
      "\n"
     ]
    },
    {
     "name": "stderr",
     "output_type": "stream",
     "text": [
      "Answering Questions: 62it [06:10,  8.16s/it]"
     ]
    },
    {
     "name": "stdout",
     "output_type": "stream",
     "text": [
      "----------------------------------------------------------------------\n",
      "Document 62: Double_RCL/2013/page_18.pdf\n",
      "Question 62: how many of the total global cruise guests are not from north america or europe?\n",
      "Original Answer: 3085000\n",
      "RAG Answer: 3,180,000\n",
      "Cleaned Original Answer: 3085000.0\n",
      "Cleaned RAG Answer: 3180000.0\n",
      "Correct: False\n",
      "----------------------------------------------------------------------\n",
      "\n",
      "\n"
     ]
    },
    {
     "name": "stderr",
     "output_type": "stream",
     "text": [
      "Answering Questions: 63it [06:22,  9.06s/it]"
     ]
    },
    {
     "name": "stdout",
     "output_type": "stream",
     "text": [
      "----------------------------------------------------------------------\n",
      "Document 63: Double_RCL/2013/page_18.pdf\n",
      "Question 63: in 2013 , what percentage of global berths came from royal caribbean?\n",
      "Original Answer: 22.86%\n",
      "RAG Answer: 22.86%\n",
      "Cleaned Original Answer: 22.86\n",
      "Cleaned RAG Answer: 22.86\n",
      "Correct: True\n",
      "----------------------------------------------------------------------\n",
      "\n",
      "\n"
     ]
    },
    {
     "name": "stderr",
     "output_type": "stream",
     "text": [
      "Answering Questions: 64it [06:23,  6.76s/it]"
     ]
    },
    {
     "name": "stdout",
     "output_type": "stream",
     "text": [
      "----------------------------------------------------------------------\n",
      "Document 64: Single_AAPL/2010/page_42.pdf-2\n",
      "Question 64: by how much did total other income and expense decrease from 2008 to 2009?\n",
      "Original Answer: 47.4%\n",
      "RAG Answer: $294 million\n",
      "Cleaned Original Answer: 47.4\n",
      "Cleaned RAG Answer: 294.0\n",
      "Correct: False\n",
      "----------------------------------------------------------------------\n",
      "\n",
      "\n"
     ]
    },
    {
     "name": "stderr",
     "output_type": "stream",
     "text": [
      "Answering Questions: 65it [06:34,  7.89s/it]"
     ]
    },
    {
     "name": "stdout",
     "output_type": "stream",
     "text": [
      "----------------------------------------------------------------------\n",
      "Document 65: Double_ADBE/2009/page_98.pdf\n",
      "Question 65: what is the growth rate in the other assets from 2008 to 2009?\n",
      "Original Answer: -11.7%\n",
      "RAG Answer: -0.3%\n",
      "Cleaned Original Answer: -11.7\n",
      "Cleaned RAG Answer: -0.3\n",
      "Correct: False\n",
      "----------------------------------------------------------------------\n",
      "\n",
      "\n"
     ]
    },
    {
     "name": "stderr",
     "output_type": "stream",
     "text": [
      "Answering Questions: 66it [06:41,  7.90s/it]"
     ]
    },
    {
     "name": "stdout",
     "output_type": "stream",
     "text": [
      "----------------------------------------------------------------------\n",
      "Document 66: Double_ADBE/2009/page_98.pdf\n",
      "Question 66: what portion of the prepaid rent is used during 2009?\n",
      "Original Answer: -1281\n",
      "RAG Answer: $1,281,000\n",
      "Cleaned Original Answer: -1281.0\n",
      "Cleaned RAG Answer: 1281000.0\n",
      "Correct: False\n",
      "----------------------------------------------------------------------\n",
      "\n",
      "\n"
     ]
    },
    {
     "name": "stderr",
     "output_type": "stream",
     "text": [
      "Answering Questions: 67it [06:47,  7.25s/it]"
     ]
    },
    {
     "name": "stdout",
     "output_type": "stream",
     "text": [
      "----------------------------------------------------------------------\n",
      "Document 67: Single_GPN/2017/page_91.pdf-2\n",
      "Question 67: what was the percentage chaning in the total fair value of restricted stock and performance awards vested from 2016 to 2017?\n",
      "Original Answer: 69%\n",
      "RAG Answer: 68.5%\n",
      "Cleaned Original Answer: 69.0\n",
      "Cleaned RAG Answer: 68.5\n",
      "Correct: False\n",
      "----------------------------------------------------------------------\n",
      "\n",
      "\n"
     ]
    },
    {
     "name": "stderr",
     "output_type": "stream",
     "text": [
      "Answering Questions: 68it [06:53,  6.68s/it]"
     ]
    },
    {
     "name": "stdout",
     "output_type": "stream",
     "text": [
      "----------------------------------------------------------------------\n",
      "Document 68: Single_RE/2013/page_40.pdf-1\n",
      "Question 68: what are the total pre-tax catastrophe losses in the last three years?\n",
      "Original Answer: 1905.4\n",
      "RAG Answer: $1,827.6 million\n",
      "Cleaned Original Answer: 1905.4\n",
      "Cleaned RAG Answer: 1827.6\n",
      "Correct: False\n",
      "----------------------------------------------------------------------\n",
      "\n",
      "\n"
     ]
    },
    {
     "name": "stderr",
     "output_type": "stream",
     "text": [
      "Answering Questions: 69it [07:01,  7.25s/it]"
     ]
    },
    {
     "name": "stdout",
     "output_type": "stream",
     "text": [
      "----------------------------------------------------------------------\n",
      "Document 69: Single_IP/2012/page_57.pdf-2\n",
      "Question 69: what percentage where north american consumer packaging net sales of total consumer packaging sales in 2011?\n",
      "Original Answer: 67%\n",
      "RAG Answer: 67.4%\n",
      "Cleaned Original Answer: 67.0\n",
      "Cleaned RAG Answer: 67.4\n",
      "Correct: True\n",
      "----------------------------------------------------------------------\n",
      "\n",
      "\n"
     ]
    },
    {
     "name": "stderr",
     "output_type": "stream",
     "text": [
      "Answering Questions: 70it [07:11,  7.95s/it]"
     ]
    },
    {
     "name": "stdout",
     "output_type": "stream",
     "text": [
      "----------------------------------------------------------------------\n",
      "Document 70: Single_ILMN/2006/page_86.pdf-3\n",
      "Question 70: what was the percent of the growth in the revenues from 2005 to 2006\n",
      "Original Answer: 45.3%\n",
      "RAG Answer: 53.2%\n",
      "Cleaned Original Answer: 45.3\n",
      "Cleaned RAG Answer: 53.2\n",
      "Correct: False\n",
      "----------------------------------------------------------------------\n",
      "\n",
      "\n"
     ]
    },
    {
     "name": "stderr",
     "output_type": "stream",
     "text": [
      "Answering Questions: 71it [07:17,  7.57s/it]"
     ]
    },
    {
     "name": "stdout",
     "output_type": "stream",
     "text": [
      "----------------------------------------------------------------------\n",
      "Document 71: Double_NKE/2015/page_37.pdf\n",
      "Question 71: what percent of the total for 2017 was due to endorsement contracts?\n",
      "Original Answer: 58%\n",
      "RAG Answer: 58.4%\n",
      "Cleaned Original Answer: 58.0\n",
      "Cleaned RAG Answer: 58.4\n",
      "Correct: True\n",
      "----------------------------------------------------------------------\n",
      "\n",
      "\n"
     ]
    },
    {
     "name": "stderr",
     "output_type": "stream",
     "text": [
      "Answering Questions: 72it [07:25,  7.56s/it]"
     ]
    },
    {
     "name": "stdout",
     "output_type": "stream",
     "text": [
      "----------------------------------------------------------------------\n",
      "Document 72: Double_NKE/2015/page_37.pdf\n",
      "Question 72: what percent of the total for all years was due to contributions form the year 2020?\n",
      "Original Answer: 5%\n",
      "RAG Answer: 4.51%\n",
      "Cleaned Original Answer: 5.0\n",
      "Cleaned RAG Answer: 4.51\n",
      "Correct: True\n",
      "----------------------------------------------------------------------\n",
      "\n",
      "\n"
     ]
    },
    {
     "name": "stderr",
     "output_type": "stream",
     "text": [
      "Answering Questions: 73it [07:34,  8.00s/it]"
     ]
    },
    {
     "name": "stdout",
     "output_type": "stream",
     "text": [
      "----------------------------------------------------------------------\n",
      "Document 73: Single_LKQ/2018/page_102.pdf-2\n",
      "Question 73: what was the percentage change in rental expenses from 2017 to 2018?\n",
      "Original Answer: 21%\n",
      "RAG Answer: The percentage change in rental expenses from 2017 to 2018 is not explicitly mentioned in the provided documents.\n",
      "Cleaned Original Answer: 21.0\n",
      "Cleaned RAG Answer: 2017.0\n",
      "Correct: False\n",
      "----------------------------------------------------------------------\n",
      "\n",
      "\n"
     ]
    },
    {
     "name": "stderr",
     "output_type": "stream",
     "text": [
      "Answering Questions: 74it [07:39,  6.98s/it]"
     ]
    },
    {
     "name": "stdout",
     "output_type": "stream",
     "text": [
      "----------------------------------------------------------------------\n",
      "Document 74: Single_DRE/2007/page_39.pdf-4\n",
      "Question 74: what was the percent of the growth in the recurring tenant improvements from 2006 to 2007\n",
      "Original Answer: 8.1%\n",
      "RAG Answer: 8.1%\n",
      "Cleaned Original Answer: 8.1\n",
      "Cleaned RAG Answer: 8.1\n",
      "Correct: True\n",
      "----------------------------------------------------------------------\n",
      "\n",
      "\n"
     ]
    },
    {
     "name": "stderr",
     "output_type": "stream",
     "text": [
      "Answering Questions: 75it [07:43,  6.25s/it]"
     ]
    },
    {
     "name": "stdout",
     "output_type": "stream",
     "text": [
      "----------------------------------------------------------------------\n",
      "Document 75: Single_DISCA/2012/page_54.pdf-4\n",
      "Question 75: what was the percentage cumulative total shareholder return on disca common stock from september 18 , 2008 to december 31 , 2012?\n",
      "Original Answer: 359.67%\n",
      "RAG Answer: 359.67%\n",
      "Cleaned Original Answer: 359.67\n",
      "Cleaned RAG Answer: 359.67\n",
      "Correct: True\n",
      "----------------------------------------------------------------------\n",
      "\n",
      "\n"
     ]
    },
    {
     "name": "stderr",
     "output_type": "stream",
     "text": [
      "Answering Questions: 76it [07:51,  6.85s/it]"
     ]
    },
    {
     "name": "stdout",
     "output_type": "stream",
     "text": [
      "----------------------------------------------------------------------\n",
      "Document 76: Single_MMM/2007/page_38.pdf-2\n",
      "Question 76: what was the percentage change in the net cash used in investing activities from 2006 to 2007\n",
      "Original Answer: -6.4%\n",
      "RAG Answer: 200.5%\n",
      "Cleaned Original Answer: -6.4\n",
      "Cleaned RAG Answer: 200.5\n",
      "Correct: False\n",
      "----------------------------------------------------------------------\n",
      "\n",
      "\n"
     ]
    },
    {
     "name": "stderr",
     "output_type": "stream",
     "text": [
      "Answering Questions: 77it [07:59,  6.98s/it]"
     ]
    },
    {
     "name": "stdout",
     "output_type": "stream",
     "text": [
      "----------------------------------------------------------------------\n",
      "Document 77: Single_D/2002/page_39.pdf-2\n",
      "Question 77: if the 2003 growth rate is the same as 2002 , what would 2003 gas transmission throughput be in bcf?\\\\n\n",
      "Original Answer: 645\n",
      "RAG Answer: 641 bcf\n",
      "Cleaned Original Answer: 645.0\n",
      "Cleaned RAG Answer: 641.0\n",
      "Correct: False\n",
      "----------------------------------------------------------------------\n",
      "\n",
      "\n"
     ]
    },
    {
     "name": "stderr",
     "output_type": "stream",
     "text": [
      "Answering Questions: 78it [08:04,  6.49s/it]"
     ]
    },
    {
     "name": "stdout",
     "output_type": "stream",
     "text": [
      "----------------------------------------------------------------------\n",
      "Document 78: Double_TSCO/2017/page_73.pdf\n",
      "Question 78: what percent of the 2017 end goodwill balance is the goodwill from the acquisition?\n",
      "Original Answer: 89.14%\n",
      "RAG Answer: 2.16%\n",
      "Cleaned Original Answer: 89.14\n",
      "Cleaned RAG Answer: 2.16\n",
      "Correct: False\n",
      "----------------------------------------------------------------------\n",
      "\n",
      "\n"
     ]
    },
    {
     "name": "stderr",
     "output_type": "stream",
     "text": [
      "Answering Questions: 79it [08:11,  6.66s/it]"
     ]
    },
    {
     "name": "stdout",
     "output_type": "stream",
     "text": [
      "----------------------------------------------------------------------\n",
      "Document 79: Double_TSCO/2017/page_73.pdf\n",
      "Question 79: what percent did the company's goodwill balance increase between the between the beginning of 2016 and the end of 2017?\n",
      "Original Answer: 808.5%\n",
      "RAG Answer: 1.0%\n",
      "Cleaned Original Answer: 808.5\n",
      "Cleaned RAG Answer: 1.0\n",
      "Correct: False\n",
      "----------------------------------------------------------------------\n",
      "\n",
      "\n"
     ]
    },
    {
     "name": "stderr",
     "output_type": "stream",
     "text": [
      "Answering Questions: 80it [08:20,  7.26s/it]"
     ]
    },
    {
     "name": "stdout",
     "output_type": "stream",
     "text": [
      "----------------------------------------------------------------------\n",
      "Document 80: Single_ILMN/2006/page_86.pdf-1\n",
      "Question 80: what was the percentage change in revenues between 2005 and 2006?\n",
      "Original Answer: 45%\n",
      "RAG Answer: 53.2%\n",
      "Cleaned Original Answer: 45.0\n",
      "Cleaned RAG Answer: 53.2\n",
      "Correct: False\n",
      "----------------------------------------------------------------------\n",
      "\n",
      "\n"
     ]
    },
    {
     "name": "stderr",
     "output_type": "stream",
     "text": [
      "Answering Questions: 81it [08:27,  7.31s/it]"
     ]
    },
    {
     "name": "stdout",
     "output_type": "stream",
     "text": [
      "----------------------------------------------------------------------\n",
      "Document 81: Single_MRO/2011/page_39.pdf-1\n",
      "Question 81: by how much did total revenues increase from 2010 to 2011?\n",
      "Original Answer: 25.4%\n",
      "RAG Answer: $408,757\n",
      "Cleaned Original Answer: 25.4\n",
      "Cleaned RAG Answer: 408757.0\n",
      "Correct: False\n",
      "----------------------------------------------------------------------\n",
      "\n",
      "\n"
     ]
    },
    {
     "name": "stderr",
     "output_type": "stream",
     "text": [
      "Answering Questions: 82it [08:34,  7.04s/it]"
     ]
    },
    {
     "name": "stdout",
     "output_type": "stream",
     "text": [
      "----------------------------------------------------------------------\n",
      "Document 82: Single_LMT/2018/page_29.pdf-1\n",
      "Question 82: what is the percentage change in total dividends paid per share from 2017 to 2018?\n",
      "Original Answer: 9.9%\n",
      "RAG Answer: 27.5%\n",
      "Cleaned Original Answer: 9.9\n",
      "Cleaned RAG Answer: 27.5\n",
      "Correct: False\n",
      "----------------------------------------------------------------------\n",
      "\n",
      "\n"
     ]
    },
    {
     "name": "stderr",
     "output_type": "stream",
     "text": [
      "Answering Questions: 83it [08:42,  7.37s/it]"
     ]
    },
    {
     "name": "stdout",
     "output_type": "stream",
     "text": [
      "----------------------------------------------------------------------\n",
      "Document 83: Double_GPN/2007/page_97.pdf\n",
      "Question 83: what is the total number of approved securities by the security holders?\n",
      "Original Answer: 12950000\n",
      "RAG Answer: 4,292,668\n",
      "Cleaned Original Answer: 12950000.0\n",
      "Cleaned RAG Answer: 4292668.0\n",
      "Correct: False\n",
      "----------------------------------------------------------------------\n",
      "\n",
      "\n"
     ]
    },
    {
     "name": "stderr",
     "output_type": "stream",
     "text": [
      "Answering Questions: 84it [08:47,  6.67s/it]"
     ]
    },
    {
     "name": "stdout",
     "output_type": "stream",
     "text": [
      "----------------------------------------------------------------------\n",
      "Document 84: Double_GPN/2007/page_97.pdf\n",
      "Question 84: what portion of the approved securities is issued?\n",
      "Original Answer: 39.9%\n",
      "RAG Answer: 1,424,356\n",
      "Cleaned Original Answer: 39.9\n",
      "Cleaned RAG Answer: 1424356.0\n",
      "Correct: False\n",
      "----------------------------------------------------------------------\n",
      "\n",
      "\n"
     ]
    },
    {
     "name": "stderr",
     "output_type": "stream",
     "text": [
      "Answering Questions: 85it [08:52,  6.41s/it]"
     ]
    },
    {
     "name": "stdout",
     "output_type": "stream",
     "text": [
      "----------------------------------------------------------------------\n",
      "Document 85: Single_CE/2017/page_20.pdf-2\n",
      "Question 85: what was the percentage change in the research and development costs from 2015 to 2016\n",
      "Original Answer: -34.4%\n",
      "RAG Answer: -1.42%\n",
      "Cleaned Original Answer: -34.4\n",
      "Cleaned RAG Answer: -1.42\n",
      "Correct: False\n",
      "----------------------------------------------------------------------\n",
      "\n",
      "\n"
     ]
    },
    {
     "name": "stderr",
     "output_type": "stream",
     "text": [
      "Answering Questions: 86it [09:00,  6.72s/it]"
     ]
    },
    {
     "name": "stdout",
     "output_type": "stream",
     "text": [
      "----------------------------------------------------------------------\n",
      "Document 86: Single_RE/2012/page_31.pdf-3\n",
      "Question 86: what is the percentage change in net reserves from 2011 to 2012?\n",
      "Original Answer: -11.3%\n",
      "RAG Answer: -3.2%\n",
      "Cleaned Original Answer: -11.3\n",
      "Cleaned RAG Answer: -3.2\n",
      "Correct: False\n",
      "----------------------------------------------------------------------\n",
      "\n",
      "\n"
     ]
    },
    {
     "name": "stderr",
     "output_type": "stream",
     "text": [
      "Answering Questions: 87it [09:08,  7.18s/it]"
     ]
    },
    {
     "name": "stdout",
     "output_type": "stream",
     "text": [
      "----------------------------------------------------------------------\n",
      "Document 87: Single_UPS/2012/page_51.pdf-1\n",
      "Question 87: what is the growth rate in the net income from 2011 to 2012?\n",
      "Original Answer: -78.8%\n",
      "RAG Answer: -3.23%\n",
      "Cleaned Original Answer: -78.8\n",
      "Cleaned RAG Answer: -3.23\n",
      "Correct: False\n",
      "----------------------------------------------------------------------\n",
      "\n",
      "\n"
     ]
    },
    {
     "name": "stderr",
     "output_type": "stream",
     "text": [
      "Answering Questions: 88it [09:18,  7.86s/it]"
     ]
    },
    {
     "name": "stdout",
     "output_type": "stream",
     "text": [
      "----------------------------------------------------------------------\n",
      "Document 88: Single_MO/2017/page_10.pdf-4\n",
      "Question 88: what is the percentage change in the weight of smokeless products in operating income from 2015 to 2016?\n",
      "Original Answer: 2.3%\n",
      "RAG Answer: 2.34%\n",
      "Cleaned Original Answer: 2.3\n",
      "Cleaned RAG Answer: 2.34\n",
      "Correct: True\n",
      "----------------------------------------------------------------------\n",
      "\n",
      "\n"
     ]
    },
    {
     "name": "stderr",
     "output_type": "stream",
     "text": [
      "Answering Questions: 89it [09:26,  8.04s/it]"
     ]
    },
    {
     "name": "stdout",
     "output_type": "stream",
     "text": [
      "----------------------------------------------------------------------\n",
      "Document 89: Double_CMCSA/2004/page_30.pdf\n",
      "Question 89: what percentage of total cable segment capital expenditures in 2004 where due to upgrading of cable systems?\n",
      "Original Answer: 25%\n",
      "RAG Answer: 24.9%\n",
      "Cleaned Original Answer: 25.0\n",
      "Cleaned RAG Answer: 24.9\n",
      "Correct: True\n",
      "----------------------------------------------------------------------\n",
      "\n",
      "\n"
     ]
    },
    {
     "name": "stderr",
     "output_type": "stream",
     "text": [
      "Answering Questions: 90it [09:33,  7.77s/it]"
     ]
    },
    {
     "name": "stdout",
     "output_type": "stream",
     "text": [
      "----------------------------------------------------------------------\n",
      "Document 90: Double_CMCSA/2004/page_30.pdf\n",
      "Question 90: what percentage of total cable segment capital expenditures in 2005 where due to upgrading of cable systems?\n",
      "Original Answer: 7%\n",
      "RAG Answer: 6.67%\n",
      "Cleaned Original Answer: 7.0\n",
      "Cleaned RAG Answer: 6.67\n",
      "Correct: True\n",
      "----------------------------------------------------------------------\n",
      "\n",
      "\n"
     ]
    },
    {
     "name": "stderr",
     "output_type": "stream",
     "text": [
      "Answering Questions: 91it [09:42,  8.13s/it]"
     ]
    },
    {
     "name": "stdout",
     "output_type": "stream",
     "text": [
      "----------------------------------------------------------------------\n",
      "Document 91: Single_STT/2014/page_69.pdf-2\n",
      "Question 91: what is the percentage change in the average total short-duration advances from 2013 to 2014?\n",
      "Original Answer: 3.1%\n",
      "RAG Answer: 3.15%\n",
      "Cleaned Original Answer: 3.1\n",
      "Cleaned RAG Answer: 3.15\n",
      "Correct: True\n",
      "----------------------------------------------------------------------\n",
      "\n",
      "\n"
     ]
    },
    {
     "name": "stderr",
     "output_type": "stream",
     "text": [
      "Answering Questions: 92it [09:48,  7.38s/it]"
     ]
    },
    {
     "name": "stdout",
     "output_type": "stream",
     "text": [
      "----------------------------------------------------------------------\n",
      "Document 92: Single_MRO/2009/page_127.pdf-1\n",
      "Question 92: by what percentage did asset retirement obligations increase from 2008 to 2009?\n",
      "Original Answer: 14.2%\n",
      "RAG Answer: 14.2%\n",
      "Cleaned Original Answer: 14.2\n",
      "Cleaned RAG Answer: 14.2\n",
      "Correct: True\n",
      "----------------------------------------------------------------------\n",
      "\n",
      "\n"
     ]
    },
    {
     "name": "stderr",
     "output_type": "stream",
     "text": [
      "Answering Questions: 93it [09:54,  7.13s/it]"
     ]
    },
    {
     "name": "stdout",
     "output_type": "stream",
     "text": [
      "----------------------------------------------------------------------\n",
      "Document 93: Double_AMT/2010/page_111.pdf\n",
      "Question 93: at december 31 , 2010 what was the percent of the total net operating loss carry forwards set to expire between 2021 and 2025\n",
      "Original Answer: 64.6%\n",
      "RAG Answer: 65.1%\n",
      "Cleaned Original Answer: 64.6\n",
      "Cleaned RAG Answer: 65.1\n",
      "Correct: True\n",
      "----------------------------------------------------------------------\n",
      "\n",
      "\n"
     ]
    },
    {
     "name": "stderr",
     "output_type": "stream",
     "text": [
      "Answering Questions: 94it [10:00,  6.74s/it]"
     ]
    },
    {
     "name": "stdout",
     "output_type": "stream",
     "text": [
      "----------------------------------------------------------------------\n",
      "Document 94: Double_AMT/2010/page_111.pdf\n",
      "Question 94: what is the total net operating loss carryforwards?\n",
      "Original Answer: 2484034\n",
      "RAG Answer: $1,468.4 million\n",
      "Cleaned Original Answer: 2484034.0\n",
      "Cleaned RAG Answer: 1468.4\n",
      "Correct: False\n",
      "----------------------------------------------------------------------\n",
      "\n",
      "\n"
     ]
    },
    {
     "name": "stderr",
     "output_type": "stream",
     "text": [
      "Answering Questions: 95it [10:08,  7.14s/it]"
     ]
    },
    {
     "name": "stdout",
     "output_type": "stream",
     "text": [
      "----------------------------------------------------------------------\n",
      "Document 95: Double_UAA/2017/page_52.pdf\n",
      "Question 95: what percentage of operating income was the emea segment in 2016?\n",
      "Original Answer: 3%\n",
      "RAG Answer: 2.73%\n",
      "Cleaned Original Answer: 3.0\n",
      "Cleaned RAG Answer: 2.73\n",
      "Correct: True\n",
      "----------------------------------------------------------------------\n",
      "\n",
      "\n"
     ]
    },
    {
     "name": "stderr",
     "output_type": "stream",
     "text": [
      "Answering Questions: 96it [10:16,  7.28s/it]"
     ]
    },
    {
     "name": "stdout",
     "output_type": "stream",
     "text": [
      "----------------------------------------------------------------------\n",
      "Document 96: Double_UAA/2017/page_52.pdf\n",
      "Question 96: what portion of total operating income is generated by north america segment in 2016?\n",
      "Original Answer: 97.8%\n",
      "RAG Answer: $408,424\n",
      "Cleaned Original Answer: 97.8\n",
      "Cleaned RAG Answer: 408424.0\n",
      "Correct: False\n",
      "----------------------------------------------------------------------\n",
      "\n",
      "\n"
     ]
    },
    {
     "name": "stderr",
     "output_type": "stream",
     "text": [
      "Answering Questions: 97it [10:24,  7.39s/it]"
     ]
    },
    {
     "name": "stdout",
     "output_type": "stream",
     "text": [
      "----------------------------------------------------------------------\n",
      "Document 97: Single_IP/2007/page_30.pdf-2\n",
      "Question 97: what percent of printing papers sales in 2006 was from north american printing papers net sales?\n",
      "Original Answer: 66%\n",
      "RAG Answer: 65.67%\n",
      "Cleaned Original Answer: 66.0\n",
      "Cleaned RAG Answer: 65.67\n",
      "Correct: True\n",
      "----------------------------------------------------------------------\n",
      "\n",
      "\n"
     ]
    },
    {
     "name": "stderr",
     "output_type": "stream",
     "text": [
      "Answering Questions: 98it [10:28,  6.43s/it]"
     ]
    },
    {
     "name": "stdout",
     "output_type": "stream",
     "text": [
      "----------------------------------------------------------------------\n",
      "Document 98: Single_AAL/2015/page_51.pdf-3\n",
      "Question 98: by how much did american airlines group inc . common stock out preform the s&p 500 index over the 4 year period?\n",
      "Original Answer: 48%\n",
      "RAG Answer: 62%\n",
      "Cleaned Original Answer: 48.0\n",
      "Cleaned RAG Answer: 62.0\n",
      "Correct: False\n",
      "----------------------------------------------------------------------\n",
      "\n",
      "\n"
     ]
    },
    {
     "name": "stderr",
     "output_type": "stream",
     "text": [
      "Answering Questions: 99it [10:34,  6.32s/it]"
     ]
    },
    {
     "name": "stdout",
     "output_type": "stream",
     "text": [
      "----------------------------------------------------------------------\n",
      "Document 99: Double_LKQ/2009/page_77.pdf\n",
      "Question 99: what was the percentage change in rental expense for operating leases from 2007 to 2008?\n",
      "Original Answer: 84%\n",
      "RAG Answer: 84.21%\n",
      "Cleaned Original Answer: 84.0\n",
      "Cleaned RAG Answer: 84.21\n",
      "Correct: True\n",
      "----------------------------------------------------------------------\n",
      "\n",
      "\n"
     ]
    },
    {
     "name": "stderr",
     "output_type": "stream",
     "text": [
      "Answering Questions: 100it [10:39,  6.39s/it]"
     ]
    },
    {
     "name": "stdout",
     "output_type": "stream",
     "text": [
      "----------------------------------------------------------------------\n",
      "Document 100: Double_LKQ/2009/page_77.pdf\n",
      "Question 100: what was the percentage change in rental expense for operating leases from 2008 to 2009?\n",
      "Original Answer: 17%\n",
      "RAG Answer: 16.73%\n",
      "Cleaned Original Answer: 17.0\n",
      "Cleaned RAG Answer: 16.73\n",
      "Correct: True\n",
      "----------------------------------------------------------------------\n",
      "\n",
      "\n",
      "Correct Count: 44.0\n",
      "Accuracy: 0.440\n"
     ]
    },
    {
     "name": "stderr",
     "output_type": "stream",
     "text": [
      "\n"
     ]
    }
   ],
   "source": [
    "for i, data in tqdm(enumerate(limit_qa_data), desc=\"Answering Questions\"):\n",
    "    input_dict = {'question': data['question'], 'reranked_docs': data['reranked_docs'], 'chat': False}\n",
    "    raw_rag_answer = answer_question_node(input_dict)['answer']\n",
    "    data['raw_rag_answer'] = raw_rag_answer\n",
    "\n",
    "    # clean the answers for comparison\n",
    "    cleaned_original_answer = clean_number(data['answer'])\n",
    "    cleaned_rag_answer = clean_number(raw_rag_answer)\n",
    "    data['cleaned_rag_answer'] = cleaned_rag_answer\n",
    "\n",
    "    # now do the comparison\n",
    "    correct = False\n",
    "    # accounts for 'yes' and 'no' answers and direct matches\n",
    "    if cleaned_rag_answer == cleaned_original_answer:\n",
    "        correct = True\n",
    "    elif isinstance(cleaned_rag_answer, float) and isinstance(cleaned_original_answer, float):\n",
    "        # account for the fact that the original answer is provided with no decimal places (e.g. 17%) but I provide more precide value (e.g. 17.1% or 16.9%)\n",
    "        # also considers absolute matches the same to account percetnage change questions\n",
    "        if cleaned_original_answer.is_integer():\n",
    "            int_rag = int(cleaned_rag_answer)\n",
    "            rounded_rag = round(cleaned_rag_answer)\n",
    "            if abs(cleaned_original_answer) in (abs(int_rag), abs(rounded_rag)):\n",
    "                correct = True\n",
    "        # standard case\n",
    "        else:\n",
    "            if math.isclose(abs(cleaned_rag_answer), abs(cleaned_original_answer), rel_tol=0.01, abs_tol=0.05): # 0.01 seems appropriate for this data to account for LLM rounding errors\n",
    "                correct = True\n",
    "    \n",
    "    data['correct'] = 1.0 if correct else 0.0\n",
    "\n",
    "    print(\"-\"*70)\n",
    "    print(f\"Document {i+1}: {data['id']}\")\n",
    "    print(f\"Question {i+1}: {data['question']}\")\n",
    "    print(f\"Original Answer: {data['answer']}\")\n",
    "    print(f\"RAG Answer: {raw_rag_answer}\")\n",
    "    print(f\"Cleaned Original Answer: {cleaned_original_answer}\")\n",
    "    print(f\"Cleaned RAG Answer: {cleaned_rag_answer}\")\n",
    "    print(f\"Correct: {correct}\")\n",
    "    print(\"-\"*70)\n",
    "    print(\"\\n\")\n",
    "\n",
    "correct_count = sum(data['correct'] for data in limit_qa_data)\n",
    "accuracy = correct_count / len(limit_qa_data)\n",
    "print(f\"Correct Count: {correct_count}\")\n",
    "print(f\"Accuracy: {accuracy:.3f}\")"
   ]
  },
  {
   "cell_type": "code",
   "execution_count": 24,
   "metadata": {},
   "outputs": [],
   "source": [
    "with open(tmp_output_path, 'w') as f:\n",
    "    json.dump(limit_qa_data, f, indent=4)"
   ]
  },
  {
   "cell_type": "code",
   "execution_count": 25,
   "metadata": {},
   "outputs": [],
   "source": [
    "results['accuracy'] = accuracy"
   ]
  },
  {
   "cell_type": "code",
   "execution_count": 26,
   "metadata": {},
   "outputs": [],
   "source": [
    "import pandas as pd\n",
    "\n",
    "results_df = pd.DataFrame({\n",
    "    'Metric': results.keys(),\n",
    "    'Value': results.values()\n",
    "})\n",
    "\n",
    "results_df.to_csv(results_path, index=False)"
   ]
  },
  {
   "cell_type": "code",
   "execution_count": 28,
   "metadata": {},
   "outputs": [
    {
     "data": {
      "text/html": [
       "<div>\n",
       "<style scoped>\n",
       "    .dataframe tbody tr th:only-of-type {\n",
       "        vertical-align: middle;\n",
       "    }\n",
       "\n",
       "    .dataframe tbody tr th {\n",
       "        vertical-align: top;\n",
       "    }\n",
       "\n",
       "    .dataframe thead th {\n",
       "        text-align: right;\n",
       "    }\n",
       "</style>\n",
       "<table border=\"1\" class=\"dataframe\">\n",
       "  <thead>\n",
       "    <tr style=\"text-align: right;\">\n",
       "      <th></th>\n",
       "      <th>Metric</th>\n",
       "      <th>Value</th>\n",
       "    </tr>\n",
       "  </thead>\n",
       "  <tbody>\n",
       "    <tr>\n",
       "      <th>0</th>\n",
       "      <td>overall_retrieval_recall</td>\n",
       "      <td>0.620000</td>\n",
       "    </tr>\n",
       "    <tr>\n",
       "      <th>1</th>\n",
       "      <td>overall_retrieval_mrr</td>\n",
       "      <td>0.267619</td>\n",
       "    </tr>\n",
       "    <tr>\n",
       "      <th>2</th>\n",
       "      <td>successful_retrieval_mrr</td>\n",
       "      <td>0.431644</td>\n",
       "    </tr>\n",
       "    <tr>\n",
       "      <th>3</th>\n",
       "      <td>overall_reranking_recall</td>\n",
       "      <td>0.540000</td>\n",
       "    </tr>\n",
       "    <tr>\n",
       "      <th>4</th>\n",
       "      <td>overall_reranking_mrr</td>\n",
       "      <td>0.426667</td>\n",
       "    </tr>\n",
       "    <tr>\n",
       "      <th>5</th>\n",
       "      <td>successful_reranking_recall</td>\n",
       "      <td>0.870968</td>\n",
       "    </tr>\n",
       "    <tr>\n",
       "      <th>6</th>\n",
       "      <td>successful_reranking_mrr</td>\n",
       "      <td>0.790123</td>\n",
       "    </tr>\n",
       "    <tr>\n",
       "      <th>7</th>\n",
       "      <td>accuracy</td>\n",
       "      <td>0.440000</td>\n",
       "    </tr>\n",
       "  </tbody>\n",
       "</table>\n",
       "</div>"
      ],
      "text/plain": [
       "                        Metric     Value\n",
       "0     overall_retrieval_recall  0.620000\n",
       "1        overall_retrieval_mrr  0.267619\n",
       "2     successful_retrieval_mrr  0.431644\n",
       "3     overall_reranking_recall  0.540000\n",
       "4        overall_reranking_mrr  0.426667\n",
       "5  successful_reranking_recall  0.870968\n",
       "6     successful_reranking_mrr  0.790123\n",
       "7                     accuracy  0.440000"
      ]
     },
     "metadata": {},
     "output_type": "display_data"
    }
   ],
   "source": [
    "display(results_df)"
   ]
  },
  {
   "cell_type": "markdown",
   "metadata": {},
   "source": []
  }
 ],
 "metadata": {
  "kernelspec": {
   "display_name": ".venv",
   "language": "python",
   "name": "python3"
  },
  "language_info": {
   "codemirror_mode": {
    "name": "ipython",
    "version": 3
   },
   "file_extension": ".py",
   "mimetype": "text/x-python",
   "name": "python",
   "nbconvert_exporter": "python",
   "pygments_lexer": "ipython3",
   "version": "3.12.0"
  }
 },
 "nbformat": 4,
 "nbformat_minor": 2
}
