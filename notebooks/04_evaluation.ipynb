{
 "cells": [
  {
   "cell_type": "markdown",
   "metadata": {},
   "source": [
    "# Evaluations\n",
    "Runs through the different stages of the RAG agent and evaluates the performance of the different stages"
   ]
  },
  {
   "cell_type": "code",
   "execution_count": 3,
   "metadata": {},
   "outputs": [],
   "source": [
    "import os\n",
    "import sys\n",
    "from pathlib import Path\n",
    "\n",
    "sys.path.append(str(Path.cwd().parent))\n",
    "\n",
    "from src.agents.agent_rag import RAGAgent"
   ]
  },
  {
   "cell_type": "markdown",
   "metadata": {},
   "source": [
    "## Load the data and prep the dataset"
   ]
  },
  {
   "cell_type": "code",
   "execution_count": 10,
   "metadata": {},
   "outputs": [],
   "source": [
    "import json\n",
    "\n",
    "data_dir = os.path.join('..', 'ConvFinQA/data/')\n",
    "\n",
    "train_data = json.load(open(os.path.join(data_dir, 'train.json')))"
   ]
  },
  {
   "cell_type": "markdown",
   "metadata": {},
   "source": [
    "Not all the data has qa, so we need to filter out the data that doesn't have qa"
   ]
  },
  {
   "cell_type": "code",
   "execution_count": 33,
   "metadata": {},
   "outputs": [],
   "source": [
    "qa_data = [\n",
    "    {\n",
    "        'id': data['id'],\n",
    "        'question': data[qa_key]['question'],\n",
    "        'answer': data[qa_key]['answer']\n",
    "    }\n",
    "    for data in train_data\n",
    "    for qa_key in [k for k in data.keys() if k == 'qa' or k.startswith('qa_')] # account for multiple qa keys\n",
    "]"
   ]
  },
  {
   "cell_type": "code",
   "execution_count": 34,
   "metadata": {},
   "outputs": [
    {
     "name": "stdout",
     "output_type": "stream",
     "text": [
      "3037\n",
      "3965\n"
     ]
    }
   ],
   "source": [
    "print(len(train_data))\n",
    "print(len(qa_data))"
   ]
  },
  {
   "cell_type": "code",
   "execution_count": 39,
   "metadata": {},
   "outputs": [
    {
     "data": {
      "text/plain": [
       "[{'id': 'Single_JKHY/2009/page_28.pdf-3',\n",
       "  'question': 'what was the percentage change in the net cash from operating activities from 2008 to 2009',\n",
       "  'answer': '14.1%'},\n",
       " {'id': 'Single_RSG/2008/page_114.pdf-2',\n",
       "  'question': 'what was the percent of the growth in the revenues from 2007 to 2008',\n",
       "  'answer': '1.3%'},\n",
       " {'id': 'Single_AAPL/2002/page_23.pdf-1',\n",
       "  'question': 'what was the percentage change in net sales from 2000 to 2001?',\n",
       "  'answer': '-32%'},\n",
       " {'id': 'Single_UPS/2009/page_33.pdf-2',\n",
       "  'question': 'what was the difference in percentage cumulative return on investment for united parcel service inc . compared to the s&p 500 index for the five year period ended 12/31/09?',\n",
       "  'answer': '-26.16%'},\n",
       " {'id': 'Double_UPS/2009/page_33.pdf',\n",
       "  'question': 'what is the roi of an investment in ups in 2004 and sold in 2006?',\n",
       "  'answer': '-8.9%'}]"
      ]
     },
     "execution_count": 39,
     "metadata": {},
     "output_type": "execute_result"
    }
   ],
   "source": [
    "qa_data[:5]"
   ]
  },
  {
   "cell_type": "markdown",
   "metadata": {},
   "source": [
    "## Retrieval\n",
    "First let's take a look at the retrieval stage"
   ]
  },
  {
   "cell_type": "code",
   "execution_count": 55,
   "metadata": {},
   "outputs": [],
   "source": [
    "from src.nodes import retriever_node"
   ]
  },
  {
   "cell_type": "code",
   "execution_count": 59,
   "metadata": {},
   "outputs": [],
   "source": [
    "LIMIT = 100\n",
    "\n",
    "# only take the first LIMIT questions\n",
    "limit_qa_data = qa_data[:LIMIT]\n",
    "\n",
    "for data in limit_qa_data:\n",
    "    question_dict = {'question': data['question']}\n",
    "    retrieved_docs = retriever_node(question_dict)['retrieved_docs']\n",
    "\n",
    "    retrieved_docs_ids = [doc['id'] for doc in retrieved_docs]\n",
    "    if data['id'] in retrieved_docs_ids:\n",
    "        data['retrieved'] = 1\n",
    "    else:\n",
    "        data['retrieved'] = 0"
   ]
  },
  {
   "cell_type": "code",
   "execution_count": 60,
   "metadata": {},
   "outputs": [
    {
     "data": {
      "text/plain": [
       "62"
      ]
     },
     "execution_count": 60,
     "metadata": {},
     "output_type": "execute_result"
    }
   ],
   "source": [
    "sum([data['retrieved'] for data in limit_qa_data])"
   ]
  },
  {
   "cell_type": "code",
   "execution_count": null,
   "metadata": {},
   "outputs": [],
   "source": [
    "# split this is into recall and mrr. Check through my formatting and results to be sure I've got the right answers"
   ]
  }
 ],
 "metadata": {
  "kernelspec": {
   "display_name": ".venv",
   "language": "python",
   "name": "python3"
  },
  "language_info": {
   "codemirror_mode": {
    "name": "ipython",
    "version": 3
   },
   "file_extension": ".py",
   "mimetype": "text/x-python",
   "name": "python",
   "nbconvert_exporter": "python",
   "pygments_lexer": "ipython3",
   "version": "3.12.0"
  }
 },
 "nbformat": 4,
 "nbformat_minor": 2
}
